{
 "cells": [
  {
   "cell_type": "markdown",
   "id": "1faa73c4",
   "metadata": {
    "papermill": {
     "duration": 0.008379,
     "end_time": "2022-10-05T08:22:44.961420",
     "exception": false,
     "start_time": "2022-10-05T08:22:44.953041",
     "status": "completed"
    },
    "tags": []
   },
   "source": [
    "# Feedback Prize - ELL - Bag-of-words TensorFlow Starter\n",
    "\n",
    "Hi, everyone! This notebook is a basic bag-of-words solution. It covers:\n",
    "* Basic EDA\n",
    "* Bag of words vectorization with TensorFlow\n",
    "* A simple neural network\n",
    "* Submission\n",
    "\n",
    "EDA parts are inspired by [Lex's great notebook](https://www.kaggle.com/code/lextoumbourou/feedback3-eda-hf-custom-trainer-sift/notebook). Please check it as well."
   ]
  },
  {
   "cell_type": "markdown",
   "id": "6766e10c",
   "metadata": {
    "papermill": {
     "duration": 0.007817,
     "end_time": "2022-10-05T08:22:44.978496",
     "exception": false,
     "start_time": "2022-10-05T08:22:44.970679",
     "status": "completed"
    },
    "tags": []
   },
   "source": [
    "# Imports"
   ]
  },
  {
   "cell_type": "code",
   "execution_count": 1,
   "id": "0969e942",
   "metadata": {
    "execution": {
     "iopub.execute_input": "2022-10-05T08:22:44.999257Z",
     "iopub.status.busy": "2022-10-05T08:22:44.997961Z",
     "iopub.status.idle": "2022-10-05T08:22:51.627315Z",
     "shell.execute_reply": "2022-10-05T08:22:51.626139Z"
    },
    "papermill": {
     "duration": 6.642362,
     "end_time": "2022-10-05T08:22:51.630067",
     "exception": false,
     "start_time": "2022-10-05T08:22:44.987705",
     "status": "completed"
    },
    "tags": []
   },
   "outputs": [
    {
     "name": "stdout",
     "output_type": "stream",
     "text": [
      "TF version: 2.6.4\n"
     ]
    }
   ],
   "source": [
    "import os\n",
    "import numpy as np\n",
    "import pandas as pd\n",
    "import seaborn as sns\n",
    "import matplotlib.pyplot as plt\n",
    "from sklearn.model_selection import train_test_split\n",
    "import tensorflow as tf\n",
    "print(f'TF version: {tf.__version__}')"
   ]
  },
  {
   "cell_type": "code",
   "execution_count": 2,
   "id": "e0dd9104",
   "metadata": {
    "execution": {
     "iopub.execute_input": "2022-10-05T08:22:51.647466Z",
     "iopub.status.busy": "2022-10-05T08:22:51.646320Z",
     "iopub.status.idle": "2022-10-05T08:22:51.652194Z",
     "shell.execute_reply": "2022-10-05T08:22:51.651396Z"
    },
    "papermill": {
     "duration": 0.01667,
     "end_time": "2022-10-05T08:22:51.654423",
     "exception": false,
     "start_time": "2022-10-05T08:22:51.637753",
     "status": "completed"
    },
    "tags": []
   },
   "outputs": [],
   "source": [
    "def set_seed(seed=42):\n",
    "    np.random.seed(seed)\n",
    "    tf.random.set_seed(seed)\n",
    "set_seed(42)"
   ]
  },
  {
   "cell_type": "markdown",
   "id": "a97f7eab",
   "metadata": {
    "papermill": {
     "duration": 0.00689,
     "end_time": "2022-10-05T08:22:51.668404",
     "exception": false,
     "start_time": "2022-10-05T08:22:51.661514",
     "status": "completed"
    },
    "tags": []
   },
   "source": [
    "# Load DataFrame"
   ]
  },
  {
   "cell_type": "code",
   "execution_count": 3,
   "id": "6735011c",
   "metadata": {
    "execution": {
     "iopub.execute_input": "2022-10-05T08:22:51.684812Z",
     "iopub.status.busy": "2022-10-05T08:22:51.684041Z",
     "iopub.status.idle": "2022-10-05T08:22:51.968757Z",
     "shell.execute_reply": "2022-10-05T08:22:51.967459Z"
    },
    "papermill": {
     "duration": 0.295792,
     "end_time": "2022-10-05T08:22:51.971260",
     "exception": false,
     "start_time": "2022-10-05T08:22:51.675468",
     "status": "completed"
    },
    "tags": []
   },
   "outputs": [
    {
     "data": {
      "text/html": [
       "<div>\n",
       "<style scoped>\n",
       "    .dataframe tbody tr th:only-of-type {\n",
       "        vertical-align: middle;\n",
       "    }\n",
       "\n",
       "    .dataframe tbody tr th {\n",
       "        vertical-align: top;\n",
       "    }\n",
       "\n",
       "    .dataframe thead th {\n",
       "        text-align: right;\n",
       "    }\n",
       "</style>\n",
       "<table border=\"1\" class=\"dataframe\">\n",
       "  <thead>\n",
       "    <tr style=\"text-align: right;\">\n",
       "      <th></th>\n",
       "      <th>text_id</th>\n",
       "      <th>full_text</th>\n",
       "      <th>cohesion</th>\n",
       "      <th>syntax</th>\n",
       "      <th>vocabulary</th>\n",
       "      <th>phraseology</th>\n",
       "      <th>grammar</th>\n",
       "      <th>conventions</th>\n",
       "    </tr>\n",
       "  </thead>\n",
       "  <tbody>\n",
       "    <tr>\n",
       "      <th>0</th>\n",
       "      <td>0016926B079C</td>\n",
       "      <td>I think that students would benefit from learn...</td>\n",
       "      <td>3.5</td>\n",
       "      <td>3.5</td>\n",
       "      <td>3.0</td>\n",
       "      <td>3.0</td>\n",
       "      <td>4.0</td>\n",
       "      <td>3.0</td>\n",
       "    </tr>\n",
       "    <tr>\n",
       "      <th>1</th>\n",
       "      <td>0022683E9EA5</td>\n",
       "      <td>When a problem is a change you have to let it ...</td>\n",
       "      <td>2.5</td>\n",
       "      <td>2.5</td>\n",
       "      <td>3.0</td>\n",
       "      <td>2.0</td>\n",
       "      <td>2.0</td>\n",
       "      <td>2.5</td>\n",
       "    </tr>\n",
       "    <tr>\n",
       "      <th>2</th>\n",
       "      <td>00299B378633</td>\n",
       "      <td>Dear, Principal\\n\\nIf u change the school poli...</td>\n",
       "      <td>3.0</td>\n",
       "      <td>3.5</td>\n",
       "      <td>3.0</td>\n",
       "      <td>3.0</td>\n",
       "      <td>3.0</td>\n",
       "      <td>2.5</td>\n",
       "    </tr>\n",
       "    <tr>\n",
       "      <th>3</th>\n",
       "      <td>003885A45F42</td>\n",
       "      <td>The best time in life is when you become yours...</td>\n",
       "      <td>4.5</td>\n",
       "      <td>4.5</td>\n",
       "      <td>4.5</td>\n",
       "      <td>4.5</td>\n",
       "      <td>4.0</td>\n",
       "      <td>5.0</td>\n",
       "    </tr>\n",
       "    <tr>\n",
       "      <th>4</th>\n",
       "      <td>0049B1DF5CCC</td>\n",
       "      <td>Small act of kindness can impact in other peop...</td>\n",
       "      <td>2.5</td>\n",
       "      <td>3.0</td>\n",
       "      <td>3.0</td>\n",
       "      <td>3.0</td>\n",
       "      <td>2.5</td>\n",
       "      <td>2.5</td>\n",
       "    </tr>\n",
       "  </tbody>\n",
       "</table>\n",
       "</div>"
      ],
      "text/plain": [
       "        text_id                                          full_text  cohesion  \\\n",
       "0  0016926B079C  I think that students would benefit from learn...       3.5   \n",
       "1  0022683E9EA5  When a problem is a change you have to let it ...       2.5   \n",
       "2  00299B378633  Dear, Principal\\n\\nIf u change the school poli...       3.0   \n",
       "3  003885A45F42  The best time in life is when you become yours...       4.5   \n",
       "4  0049B1DF5CCC  Small act of kindness can impact in other peop...       2.5   \n",
       "\n",
       "   syntax  vocabulary  phraseology  grammar  conventions  \n",
       "0     3.5         3.0          3.0      4.0          3.0  \n",
       "1     2.5         3.0          2.0      2.0          2.5  \n",
       "2     3.5         3.0          3.0      3.0          2.5  \n",
       "3     4.5         4.5          4.5      4.0          5.0  \n",
       "4     3.0         3.0          3.0      2.5          2.5  "
      ]
     },
     "metadata": {},
     "output_type": "display_data"
    },
    {
     "name": "stdout",
     "output_type": "stream",
     "text": [
      "\n",
      "---------DataFrame Summary---------\n",
      "<class 'pandas.core.frame.DataFrame'>\n",
      "RangeIndex: 3911 entries, 0 to 3910\n",
      "Data columns (total 8 columns):\n",
      " #   Column       Non-Null Count  Dtype  \n",
      "---  ------       --------------  -----  \n",
      " 0   text_id      3911 non-null   object \n",
      " 1   full_text    3911 non-null   object \n",
      " 2   cohesion     3911 non-null   float64\n",
      " 3   syntax       3911 non-null   float64\n",
      " 4   vocabulary   3911 non-null   float64\n",
      " 5   phraseology  3911 non-null   float64\n",
      " 6   grammar      3911 non-null   float64\n",
      " 7   conventions  3911 non-null   float64\n",
      "dtypes: float64(6), object(2)\n",
      "memory usage: 244.6+ KB\n"
     ]
    }
   ],
   "source": [
    "df = pd.read_csv('../input/feedback-prize-english-language-learning/train.csv')\n",
    "display(df.head())\n",
    "print('\\n---------DataFrame Summary---------')\n",
    "df.info()"
   ]
  },
  {
   "cell_type": "markdown",
   "id": "4680bfe4",
   "metadata": {
    "papermill": {
     "duration": 0.007116,
     "end_time": "2022-10-05T08:22:51.986133",
     "exception": false,
     "start_time": "2022-10-05T08:22:51.979017",
     "status": "completed"
    },
    "tags": []
   },
   "source": [
    "# Data split\n",
    "\n",
    "So \"full text\" is our input data. We want to predict scores of \"cohesion\", \"syntax\", \"vocabulary\", \"phraseology\", \"grammar\" and \"conventions\".\n",
    "\n",
    "\n",
    "Let's define the target columns and count text words for later use. Then, we random split training data."
   ]
  },
  {
   "cell_type": "code",
   "execution_count": 4,
   "id": "cf4b7e5f",
   "metadata": {
    "execution": {
     "iopub.execute_input": "2022-10-05T08:22:52.004512Z",
     "iopub.status.busy": "2022-10-05T08:22:52.003198Z",
     "iopub.status.idle": "2022-10-05T08:22:52.099867Z",
     "shell.execute_reply": "2022-10-05T08:22:52.098782Z"
    },
    "papermill": {
     "duration": 0.108831,
     "end_time": "2022-10-05T08:22:52.102297",
     "exception": false,
     "start_time": "2022-10-05T08:22:51.993466",
     "status": "completed"
    },
    "tags": []
   },
   "outputs": [
    {
     "name": "stdout",
     "output_type": "stream",
     "text": [
      "Training examples: 3519, validation examples: 392\n"
     ]
    }
   ],
   "source": [
    "TARGET_COLS = ['cohesion', 'syntax', 'vocabulary', 'phraseology', 'grammar', 'conventions']\n",
    "\n",
    "df['word_count'] = df['full_text'].apply(lambda x: len(x.split()))\n",
    "\n",
    "train_df, val_df = train_test_split(df, test_size=0.1, random_state=42, shuffle=True)\n",
    "print(f'Training examples: {len(train_df)}, validation examples: {len(val_df)}')"
   ]
  },
  {
   "cell_type": "markdown",
   "id": "1ce8298a",
   "metadata": {
    "papermill": {
     "duration": 0.007182,
     "end_time": "2022-10-05T08:22:52.117235",
     "exception": false,
     "start_time": "2022-10-05T08:22:52.110053",
     "status": "completed"
    },
    "tags": []
   },
   "source": [
    "Defining plot functions to check distributions."
   ]
  },
  {
   "cell_type": "code",
   "execution_count": 5,
   "id": "2f6bb363",
   "metadata": {
    "execution": {
     "iopub.execute_input": "2022-10-05T08:22:52.134212Z",
     "iopub.status.busy": "2022-10-05T08:22:52.133346Z",
     "iopub.status.idle": "2022-10-05T08:22:52.141512Z",
     "shell.execute_reply": "2022-10-05T08:22:52.140455Z"
    },
    "papermill": {
     "duration": 0.01892,
     "end_time": "2022-10-05T08:22:52.143645",
     "exception": false,
     "start_time": "2022-10-05T08:22:52.124725",
     "status": "completed"
    },
    "tags": []
   },
   "outputs": [],
   "source": [
    "def plot_word_count(df):\n",
    "    fig = plt.figure(figsize=(15, 5))\n",
    "    sns.histplot(data=df, x=\"word_count\")\n",
    "    plt.show()\n",
    "    \n",
    "def plot_target_hist(df):\n",
    "    fig, axes = plt.subplots(1, len(TARGET_COLS), sharey='row', figsize=(18, 3))\n",
    "\n",
    "    for i, target_col in enumerate(TARGET_COLS):\n",
    "        ax = axes.flat[i]\n",
    "        sns.histplot(x=target_col, data=df, ax=ax, linewidth=1.25, alpha=1, zorder=2)\n",
    "        ax.set_title(target_col)\n",
    "        ax.set(xlabel=None, ylabel=None)\n",
    "    plt.tight_layout()\n",
    "    plt.show()"
   ]
  },
  {
   "cell_type": "markdown",
   "id": "7426c2b7",
   "metadata": {
    "papermill": {
     "duration": 0.007228,
     "end_time": "2022-10-05T08:22:52.158370",
     "exception": false,
     "start_time": "2022-10-05T08:22:52.151142",
     "status": "completed"
    },
    "tags": []
   },
   "source": [
    "After splitting, we see word counts distribution of training dataset and validation dataset are roughly the same."
   ]
  },
  {
   "cell_type": "code",
   "execution_count": 6,
   "id": "609d95c0",
   "metadata": {
    "execution": {
     "iopub.execute_input": "2022-10-05T08:22:52.175271Z",
     "iopub.status.busy": "2022-10-05T08:22:52.174866Z",
     "iopub.status.idle": "2022-10-05T08:22:53.017865Z",
     "shell.execute_reply": "2022-10-05T08:22:53.016999Z"
    },
    "papermill": {
     "duration": 0.854039,
     "end_time": "2022-10-05T08:22:53.019921",
     "exception": false,
     "start_time": "2022-10-05T08:22:52.165882",
     "status": "completed"
    },
    "tags": []
   },
   "outputs": [
    {
     "name": "stdout",
     "output_type": "stream",
     "text": [
      "\n",
      "\t\t\tWhole dataset text word count histogram\n"
     ]
    },
    {
     "data": {
      "image/png": "[encoded data removed]",
      "text/plain": [
       "<Figure size 1080x360 with 1 Axes>"
      ]
     },
     "metadata": {
      "needs_background": "light"
     },
     "output_type": "display_data"
    },
    {
     "name": "stdout",
     "output_type": "stream",
     "text": [
      "\n",
      "\t\t\tTraining dataset text word count histogram\n"
     ]
    },
    {
     "data": {
      "image/png": "[encoded data removed]",
      "text/plain": [
       "<Figure size 1080x360 with 1 Axes>"
      ]
     },
     "metadata": {
      "needs_background": "light"
     },
     "output_type": "display_data"
    },
    {
     "name": "stdout",
     "output_type": "stream",
     "text": [
      "\n",
      "\t\t\tValidation dataset text word count histogram\n"
     ]
    },
    {
     "data": {
      "image/png": "[encoded data removed]",
      "text/plain": [
       "<Figure size 1080x360 with 1 Axes>"
      ]
     },
     "metadata": {
      "needs_background": "light"
     },
     "output_type": "display_data"
    }
   ],
   "source": [
    "print('\\n\\t\\t\\tWhole dataset text word count histogram')\n",
    "plot_word_count(df)\n",
    "print('\\n\\t\\t\\tTraining dataset text word count histogram')\n",
    "plot_word_count(train_df)\n",
    "print('\\n\\t\\t\\tValidation dataset text word count histogram')\n",
    "plot_word_count(val_df)"
   ]
  },
  {
   "cell_type": "markdown",
   "id": "852af93c",
   "metadata": {
    "papermill": {
     "duration": 0.008159,
     "end_time": "2022-10-05T08:22:53.036594",
     "exception": false,
     "start_time": "2022-10-05T08:22:53.028435",
     "status": "completed"
    },
    "tags": []
   },
   "source": [
    "Targets distributions also stay roughly the same."
   ]
  },
  {
   "cell_type": "code",
   "execution_count": 7,
   "id": "ba5cc9ad",
   "metadata": {
    "execution": {
     "iopub.execute_input": "2022-10-05T08:22:53.055478Z",
     "iopub.status.busy": "2022-10-05T08:22:53.054820Z",
     "iopub.status.idle": "2022-10-05T08:22:56.612075Z",
     "shell.execute_reply": "2022-10-05T08:22:56.610955Z"
    },
    "papermill": {
     "duration": 3.570256,
     "end_time": "2022-10-05T08:22:56.615226",
     "exception": false,
     "start_time": "2022-10-05T08:22:53.044970",
     "status": "completed"
    },
    "tags": []
   },
   "outputs": [
    {
     "name": "stdout",
     "output_type": "stream",
     "text": [
      "\n",
      "\t\t\tWhole dataset targets distribution\n"
     ]
    },
    {
     "data": {
      "image/png": "[encoded data removed]",
      "text/plain": [
       "<Figure size 1296x216 with 6 Axes>"
      ]
     },
     "metadata": {
      "needs_background": "light"
     },
     "output_type": "display_data"
    },
    {
     "name": "stdout",
     "output_type": "stream",
     "text": [
      "\n",
      "\t\t\tTraining dataset targets distribution\n"
     ]
    },
    {
     "data": {
      "image/png": "[encoded data removed]",
      "text/plain": [
       "<Figure size 1296x216 with 6 Axes>"
      ]
     },
     "metadata": {
      "needs_background": "light"
     },
     "output_type": "display_data"
    },
    {
     "name": "stdout",
     "output_type": "stream",
     "text": [
      "\n",
      "\t\t\tValidation dataset targets distribution\n"
     ]
    },
    {
     "data": {
      "image/png": "[encoded data removed]",
      "text/plain": [
       "<Figure size 1296x216 with 6 Axes>"
      ]
     },
     "metadata": {
      "needs_background": "light"
     },
     "output_type": "display_data"
    }
   ],
   "source": [
    "print('\\n\\t\\t\\tWhole dataset targets distribution')\n",
    "plot_target_hist(df)\n",
    "print('\\n\\t\\t\\tTraining dataset targets distribution')\n",
    "plot_target_hist(train_df)\n",
    "print('\\n\\t\\t\\tValidation dataset targets distribution')\n",
    "plot_target_hist(val_df)"
   ]
  },
  {
   "cell_type": "markdown",
   "id": "b4d35486",
   "metadata": {
    "papermill": {
     "duration": 0.009537,
     "end_time": "2022-10-05T08:22:56.634732",
     "exception": false,
     "start_time": "2022-10-05T08:22:56.625195",
     "status": "completed"
    },
    "tags": []
   },
   "source": [
    "# Data preprocessing\n",
    "\n",
    "Create tf dataset from DataFrame. Check a few examples."
   ]
  },
  {
   "cell_type": "code",
   "execution_count": 8,
   "id": "5d033ea4",
   "metadata": {
    "execution": {
     "iopub.execute_input": "2022-10-05T08:22:56.657291Z",
     "iopub.status.busy": "2022-10-05T08:22:56.656228Z",
     "iopub.status.idle": "2022-10-05T08:22:56.752575Z",
     "shell.execute_reply": "2022-10-05T08:22:56.751484Z"
    },
    "papermill": {
     "duration": 0.111474,
     "end_time": "2022-10-05T08:22:56.756312",
     "exception": false,
     "start_time": "2022-10-05T08:22:56.644838",
     "status": "completed"
    },
    "tags": []
   },
   "outputs": [
    {
     "name": "stdout",
     "output_type": "stream",
     "text": [
      "tf.Tensor(b\"I think that students would benefit from learning at home,because they wont have to change and get up early in the morning to shower and do there hair. taking only classes helps them because at there house they'll be pay more attention. they will be comfortable at home.\\n\\nThe hardest part of school is getting ready. you wake up go brush your teeth and go to your closet and look at your cloths. after you think you picked a outfit u go look in the mirror and youll either not like it or you look and see a stain. Then you'll have to change. with the online classes you can wear anything and stay home and you wont need to stress about what to wear.\\n\\nmost students usually take showers before school. they either take it before they sleep or when they wake up. some students do both to smell good. that causes them do miss the bus and effects on there lesson time cause they come late to school. when u have online classes u wont need to miss lessons cause you can get everything set up and go take a shower and when u get out your ready to go.\\n\\nwhen your home your comfortable and you pay attention. it gives then an advantage to be smarter and even pass there classmates on class work. public schools are difficult even if you try. some teacher dont know how to teach it in then way that students understand it. that causes students to fail and they may repeat the class.              \", shape=(), dtype=string)\n",
      "tf.Tensor([3.5 3.5 3.  3.  4.  3. ], shape=(6,), dtype=float64) \n",
      "\n",
      "tf.Tensor(b\"When a problem is a change you have to let it do the best on you no matter what is happening it can change your mind. sometimes you need to wake up and look what is around you because problems are the best way to change what you want to change along time ago. A\\n\\nproblem is a change for you because it can make you see different and help you to understand how tings wok.\\n\\nFirst of all it can make you see different then the others. For example i remember that when i came to the United States i think that nothing was going to change me because i think that nothing was going to change me because everything was different that my country and then i realist that wrong because a problem may change you but sometimes can not change the way it is, but i remember that i was really shy but i think that change a lot because sometimes my problems make me think that there is more thing that i never see in my life but i just need to see it from a different way and dont let nothing happened and ruing the change that i want to make because of just a problem. For example i think that nothing was going to change me and that i dont need to be shy anymore became i need to start seeing everything in a different ways because you can get mad at every one but you need to know what is going to happened after,\\n\\npeople may see you different but the only way that you know how to change is to do the best and don't let nothing or not body to change nothing about you. The way you want to change not one have that and can't do nothing about it because is your choice and your problems and you can decide what to do with it.\\n\\nsecond of all can help you to understand how things work. For instance my mom have a lot of problems but she have faith when she is around people, my mom is scare of high and i'm not scare of high i did not understand why my mos is scare of high and in not scare of high and every time i see my mom in a airplane it make me laugh because she is scare and is funny, but i see it from a different way and i like the high but also she have to understand that hoe things work in other people because it can no be the same as you. For example i think that my mom and me are different because we are and i have to understand that she does not like high and i need to understand that. to help someone to understand how things work you need to start to see how things work in that persons life.\\n\\nA problem is a change for you and can make you a different and help you to understand. Everyone has a different opinion and a different was to understand then others. everyone can see the different opinion and what other people think.\", shape=(), dtype=string)\n",
      "tf.Tensor([2.5 2.5 3.  2.  2.  2.5], shape=(6,), dtype=float64) \n",
      "\n",
      "tf.Tensor(b\"Dear, Principal\\n\\nIf u change the school policy of having a grade b average that unfair. Because many students have a C average. So that means that they cant go out for sports or other activities they want to do bad. That's like taking everything they have. What if kids want to become good at something, but now they cant because of that school policy. If they have a C average they should still be able to go out for sports or activities. A C average isn't that bad, its higher then a D average. If the school police was if you have a D average of lower they shouldn't do sports or activities. If they have a D average in school for not working hard, that's means that they in ain't going to try hard. If they have a C average and there trying hard they should be able to out for sports or activities. What if all the good people in sports have a C average in school, that means that they cant play and were going to lose every game we have. That's a good policy to get grade's up but don't take away something they care about. Everyone should be able to go out for sports if they want to. If the school policy happens, schools going to be boarding now, because now students cant go out for sports or other activities. The students that are doing good in school should feel good about themselves but we shouldn't take the other students away from the others ones. If we do this policy student will try to raised their grade but if they cant what happens they them. Should they just be out of it and think that schools boarding. If they do this its like taking away their video games. All I'm saying is that they have the right to go out for sports or activities.\", shape=(), dtype=string)\n",
      "tf.Tensor([3.  3.5 3.  3.  3.  2.5], shape=(6,), dtype=float64) \n",
      "\n"
     ]
    },
    {
     "name": "stderr",
     "output_type": "stream",
     "text": [
      "2022-10-05 08:22:56.676100: I tensorflow/core/common_runtime/process_util.cc:146] Creating new thread pool with default inter op setting: 2. Tune using inter_op_parallelism_threads for best performance.\n"
     ]
    }
   ],
   "source": [
    "def load_dataset(df):\n",
    "    text = df['full_text']\n",
    "    targets = df[TARGET_COLS]\n",
    "    return tf.data.Dataset.from_tensor_slices((text, targets))\n",
    "\n",
    "raw_ds = load_dataset(df)\n",
    "\n",
    "for text, targets in raw_ds.take(3):\n",
    "    print(text)\n",
    "    print(targets, '\\n')"
   ]
  },
  {
   "cell_type": "markdown",
   "id": "b943924f",
   "metadata": {
    "papermill": {
     "duration": 0.009185,
     "end_time": "2022-10-05T08:22:56.775245",
     "exception": false,
     "start_time": "2022-10-05T08:22:56.766060",
     "status": "completed"
    },
    "tags": []
   },
   "source": [
    "# Bag-of-words\n",
    "\n",
    "To use bag-of-words approach, we can utilize TensorFlow TextVectorization layer. Here we use 4-grams bag-of-words, meaning we will include at most four consecutive words appear in the whole text as a token to give our model a bit of local order information, and we vectorize text in multi-hot form. After adapting the whole text, we check out our vocabulary."
   ]
  },
  {
   "cell_type": "code",
   "execution_count": 9,
   "id": "f880bf5c",
   "metadata": {
    "execution": {
     "iopub.execute_input": "2022-10-05T08:22:56.796216Z",
     "iopub.status.busy": "2022-10-05T08:22:56.795833Z",
     "iopub.status.idle": "2022-10-05T08:23:11.900384Z",
     "shell.execute_reply": "2022-10-05T08:23:11.898945Z"
    },
    "papermill": {
     "duration": 15.117922,
     "end_time": "2022-10-05T08:23:11.902850",
     "exception": false,
     "start_time": "2022-10-05T08:22:56.784928",
     "status": "completed"
    },
    "tags": []
   },
   "outputs": [
    {
     "name": "stderr",
     "output_type": "stream",
     "text": [
      "2022-10-05 08:22:57.926544: I tensorflow/compiler/mlir/mlir_graph_optimization_pass.cc:185] None of the MLIR Optimization Passes are enabled (registered 2)\n"
     ]
    },
    {
     "name": "stdout",
     "output_type": "stream",
     "text": [
      "\n",
      "The first 100 tokens in this vocabulary: ['[UNK]', 'to', 'the', 'and', 'you', 'a', 'that', 'in', 'they', 'is', 'i', 'of', 'have', 'for', 'be', 'it', 'can', 'because', 'people', 'are', 'not', 'do', 'students', 'school', 'or', 'with', 'if', 'we', 'your', 'will', 'their', 'more', 'my', 'what', 'but', 'time', 'good', 'on', 'get', 'work', 'like', 'when', 'some', 'this', 'want', 'them', 'life', 'help', 'would', 'make', 'at', 'so', 'dont', 'about', 'to be', 'think', 'all', 'to do', 'one', 'from', 'there', 'in the', 'how', 'also', 'other', 'was', 'something', 'he', 'want to', 'know', 'need', 'should', 'things', 'going', 'me', 'better', 'just', 'by', 'go', 'person', 'have to', 'as', 'you can', 'example', 'take', 'always', 'our', 'if you', 'doing', 'its', 'student', 'learn', 'way', 'up', 'have a', 'many', 'who', 'of the', 'going to', 'a good']\n",
      "\n",
      "\n",
      "The last 100 tokens in this vocabulary: ['make this world', 'make the school', 'make the person', 'make other people', 'make money for', 'make mistake', 'make lots of', 'make lots', 'make it right', 'make great', 'make but', 'make an effort', 'make a plan', 'make a huge', 'make a good impression', 'make a good decision', 'make a big impact', 'majority of the students', 'madrid', 'made this', 'made a lot', 'mach', 'lunch menu because', 'love to have', 'love going', 'lot of work to', 'lot of trouble', 'lot of things that', 'lot of things like', 'lot of teachers', 'lot of knowledge', 'lot money', 'lot in life', 'lot because you', 'lost their', 'loss their', 'loss of enthusiasm in', 'lose there', 'lose that', 'lose enthusiasm', 'looking for and', 'looking at the', 'look what', 'look it', 'look forward to', 'look for the', 'longers breaks', 'long to', 'long day', 'lives this', 'lives i think', 'lives for example', 'lives easier', 'lives because they', 'lives because it', 'live our', 'live is', 'listened to', 'line and', 'limits to', 'likes to do', 'likely going to', 'liked to', 'like working alone', 'like when i', 'like trying', 'like to teach', 'like to listen', 'like to do the', 'like these', 'like the career', 'like talking', 'like something', 'like play', 'like our', 'like music', 'like learning', 'like it i', 'like in school', 'like i do', 'like for example you', 'like being a', 'life when i', 'life we should', 'life we need to', 'life we have to', 'life those', 'life they need', 'life of the', 'life much', 'life maybe', 'life matters', 'life lessons', 'life is about', 'life if you have', 'life i would', 'life i believe that', 'life from', 'life finally', 'life could']\n",
      "\n"
     ]
    }
   ],
   "source": [
    "MAX_TOKENS = 50000\n",
    "bag_vectorization = tf.keras.layers.TextVectorization(\n",
    "    ngrams=4,\n",
    "    max_tokens=MAX_TOKENS, \n",
    "    output_mode=\"multi_hot\",\n",
    ")\n",
    "text_only_ds = raw_ds.map(lambda x, y: x)\n",
    "bag_vectorization.adapt(text_only_ds)\n",
    "print(f'\\nThe first 100 tokens in this vocabulary: {bag_vectorization.get_vocabulary()[:100]}\\n')\n",
    "print(f'\\nThe last 100 tokens in this vocabulary: {bag_vectorization.get_vocabulary()[-100:]}\\n')"
   ]
  },
  {
   "cell_type": "markdown",
   "id": "fefd2a22",
   "metadata": {
    "papermill": {
     "duration": 0.009552,
     "end_time": "2022-10-05T08:23:11.922163",
     "exception": false,
     "start_time": "2022-10-05T08:23:11.912611",
     "status": "completed"
    },
    "tags": []
   },
   "source": [
    "Then we continue to set up our preprocessing pipeline."
   ]
  },
  {
   "cell_type": "code",
   "execution_count": 10,
   "id": "caa17b6c",
   "metadata": {
    "execution": {
     "iopub.execute_input": "2022-10-05T08:23:11.943406Z",
     "iopub.status.busy": "2022-10-05T08:23:11.942962Z",
     "iopub.status.idle": "2022-10-05T08:23:11.951180Z",
     "shell.execute_reply": "2022-10-05T08:23:11.950051Z"
    },
    "papermill": {
     "duration": 0.02153,
     "end_time": "2022-10-05T08:23:11.953423",
     "exception": false,
     "start_time": "2022-10-05T08:23:11.931893",
     "status": "completed"
    },
    "tags": []
   },
   "outputs": [],
   "source": [
    "BUFFER_SIZE = len(train_df)\n",
    "BATCH_SIZE = 8\n",
    "AUTO = tf.data.experimental.AUTOTUNE\n",
    "\n",
    "def get_train_ds():\n",
    "    ds = load_dataset(train_df)\n",
    "    ds = ds.map(lambda x, y: (bag_vectorization(x), tf.cast(y, tf.float32)), num_parallel_calls=AUTO)\n",
    "    ds = ds.shuffle(BUFFER_SIZE).batch(BATCH_SIZE).prefetch(AUTO)\n",
    "    return ds\n",
    "\n",
    "def get_val_ds():\n",
    "    ds = load_dataset(val_df)\n",
    "    ds = ds.map(lambda x, y: (bag_vectorization(x), tf.cast(y, tf.float32)), num_parallel_calls=AUTO)\n",
    "    ds = ds.batch(BATCH_SIZE).prefetch(AUTO)\n",
    "    return ds"
   ]
  },
  {
   "cell_type": "code",
   "execution_count": 11,
   "id": "9534c716",
   "metadata": {
    "execution": {
     "iopub.execute_input": "2022-10-05T08:23:11.975512Z",
     "iopub.status.busy": "2022-10-05T08:23:11.974541Z",
     "iopub.status.idle": "2022-10-05T08:23:13.926069Z",
     "shell.execute_reply": "2022-10-05T08:23:13.925012Z"
    },
    "papermill": {
     "duration": 1.965141,
     "end_time": "2022-10-05T08:23:13.928654",
     "exception": false,
     "start_time": "2022-10-05T08:23:11.963513",
     "status": "completed"
    },
    "tags": []
   },
   "outputs": [
    {
     "name": "stdout",
     "output_type": "stream",
     "text": [
      "Training inputs shape: (8, 50000)\n",
      "Training inputs dtype: <dtype: 'float32'>\n",
      "Training targets shape: (8, 6)\n",
      "Training targets dtype: <dtype: 'float32'>\n",
      "Validation inputs shape: (8, 50000)\n",
      "Validation inputs dtype: <dtype: 'float32'>\n",
      "Validation targets shape: (8, 6)\n",
      "Validation targets dtype: <dtype: 'float32'>\n"
     ]
    }
   ],
   "source": [
    "train_ds = get_train_ds()\n",
    "val_ds = get_val_ds()\n",
    "\n",
    "for inputs, targets in train_ds.take(1):\n",
    "    print(f'Training inputs shape: {inputs.shape}')\n",
    "    print(f'Training inputs dtype: {inputs.dtype}')\n",
    "    print(f'Training targets shape: {targets.shape}')\n",
    "    print(f'Training targets dtype: {targets.dtype}')\n",
    "    \n",
    "for inputs, targets in val_ds.take(1):\n",
    "    print(f'Validation inputs shape: {inputs.shape}')\n",
    "    print(f'Validation inputs dtype: {inputs.dtype}')\n",
    "    print(f'Validation targets shape: {targets.shape}')\n",
    "    print(f'Validation targets dtype: {targets.dtype}')"
   ]
  },
  {
   "cell_type": "markdown",
   "id": "28e61310",
   "metadata": {
    "papermill": {
     "duration": 0.009943,
     "end_time": "2022-10-05T08:23:13.948487",
     "exception": false,
     "start_time": "2022-10-05T08:23:13.938544",
     "status": "completed"
    },
    "tags": []
   },
   "source": [
    "# Model\n",
    "\n",
    "Define a simple neural network."
   ]
  },
  {
   "cell_type": "code",
   "execution_count": 12,
   "id": "8bf938a2",
   "metadata": {
    "execution": {
     "iopub.execute_input": "2022-10-05T08:23:13.969920Z",
     "iopub.status.busy": "2022-10-05T08:23:13.969497Z",
     "iopub.status.idle": "2022-10-05T08:23:13.977291Z",
     "shell.execute_reply": "2022-10-05T08:23:13.976139Z"
    },
    "papermill": {
     "duration": 0.021095,
     "end_time": "2022-10-05T08:23:13.979435",
     "exception": false,
     "start_time": "2022-10-05T08:23:13.958340",
     "status": "completed"
    },
    "tags": []
   },
   "outputs": [],
   "source": [
    "def get_model(max_tokens=MAX_TOKENS, hidden_dim=16):\n",
    "    inputs = tf.keras.Input(shape=(max_tokens,))\n",
    "    x = tf.keras.layers.Dense(hidden_dim, activation=\"relu\")(inputs)\n",
    "    x = tf.keras.layers.Dropout(0.3)(x)\n",
    "    outputs = tf.keras.layers.Dense(6)(x)\n",
    "    model = tf.keras.Model(inputs, outputs)\n",
    "    model.compile(optimizer=tf.keras.optimizers.RMSprop(learning_rate=0.001),\n",
    "                 loss='huber_loss',\n",
    "                 metrics=['mse'],\n",
    "                 )\n",
    "    return model"
   ]
  },
  {
   "cell_type": "code",
   "execution_count": 13,
   "id": "d3f7f6f9",
   "metadata": {
    "execution": {
     "iopub.execute_input": "2022-10-05T08:23:14.001726Z",
     "iopub.status.busy": "2022-10-05T08:23:14.000596Z",
     "iopub.status.idle": "2022-10-05T08:23:14.056684Z",
     "shell.execute_reply": "2022-10-05T08:23:14.055326Z"
    },
    "papermill": {
     "duration": 0.069549,
     "end_time": "2022-10-05T08:23:14.059064",
     "exception": false,
     "start_time": "2022-10-05T08:23:13.989515",
     "status": "completed"
    },
    "tags": []
   },
   "outputs": [
    {
     "name": "stdout",
     "output_type": "stream",
     "text": [
      "Model: \"model\"\n",
      "_________________________________________________________________\n",
      "Layer (type)                 Output Shape              Param #   \n",
      "=================================================================\n",
      "input_1 (InputLayer)         [(None, 50000)]           0         \n",
      "_________________________________________________________________\n",
      "dense (Dense)                (None, 16)                800016    \n",
      "_________________________________________________________________\n",
      "dropout (Dropout)            (None, 16)                0         \n",
      "_________________________________________________________________\n",
      "dense_1 (Dense)              (None, 6)                 102       \n",
      "=================================================================\n",
      "Total params: 800,118\n",
      "Trainable params: 800,118\n",
      "Non-trainable params: 0\n",
      "_________________________________________________________________\n"
     ]
    }
   ],
   "source": [
    "tf.keras.backend.clear_session()\n",
    "model = get_model()\n",
    "model.summary()"
   ]
  },
  {
   "cell_type": "markdown",
   "id": "f1705bdd",
   "metadata": {
    "papermill": {
     "duration": 0.009812,
     "end_time": "2022-10-05T08:23:14.078879",
     "exception": false,
     "start_time": "2022-10-05T08:23:14.069067",
     "status": "completed"
    },
    "tags": []
   },
   "source": [
    "# Training"
   ]
  },
  {
   "cell_type": "code",
   "execution_count": 14,
   "id": "3f8ec31b",
   "metadata": {
    "execution": {
     "iopub.execute_input": "2022-10-05T08:23:14.100952Z",
     "iopub.status.busy": "2022-10-05T08:23:14.100317Z",
     "iopub.status.idle": "2022-10-05T08:24:49.603526Z",
     "shell.execute_reply": "2022-10-05T08:24:49.602280Z"
    },
    "papermill": {
     "duration": 95.517225,
     "end_time": "2022-10-05T08:24:49.606102",
     "exception": false,
     "start_time": "2022-10-05T08:23:14.088877",
     "status": "completed"
    },
    "tags": []
   },
   "outputs": [
    {
     "name": "stdout",
     "output_type": "stream",
     "text": [
      "Epoch 1/20\n",
      "440/440 [==============================] - 5s 6ms/step - loss: 0.6768 - mse: 1.8636 - val_loss: 0.2213 - val_mse: 0.4683\n",
      "\n",
      "Epoch 00001: val_loss improved from inf to 0.22133, saving model to ./bag-of-words\n"
     ]
    },
    {
     "name": "stderr",
     "output_type": "stream",
     "text": [
      "2022-10-05 08:23:19.296525: W tensorflow/python/util/util.cc:348] Sets are not currently considered sequences, but this may change in the future, so consider avoiding using them.\n"
     ]
    },
    {
     "name": "stdout",
     "output_type": "stream",
     "text": [
      "Epoch 2/20\n",
      "440/440 [==============================] - 4s 6ms/step - loss: 0.5371 - mse: 1.3516 - val_loss: 0.3327 - val_mse: 0.7230\n",
      "\n",
      "Epoch 00002: val_loss did not improve from 0.22133\n",
      "Epoch 3/20\n",
      "440/440 [==============================] - 4s 6ms/step - loss: 0.4152 - mse: 0.9830 - val_loss: 0.2125 - val_mse: 0.4413\n",
      "\n",
      "Epoch 00003: val_loss improved from 0.22133 to 0.21252, saving model to ./bag-of-words\n",
      "Epoch 4/20\n",
      "440/440 [==============================] - 4s 6ms/step - loss: 0.3176 - mse: 0.7134 - val_loss: 0.1651 - val_mse: 0.3373\n",
      "\n",
      "Epoch 00004: val_loss improved from 0.21252 to 0.16509, saving model to ./bag-of-words\n",
      "Epoch 5/20\n",
      "440/440 [==============================] - 4s 6ms/step - loss: 0.2577 - mse: 0.5594 - val_loss: 0.1637 - val_mse: 0.3335\n",
      "\n",
      "Epoch 00005: val_loss improved from 0.16509 to 0.16366, saving model to ./bag-of-words\n",
      "Epoch 6/20\n",
      "440/440 [==============================] - 5s 8ms/step - loss: 0.2248 - mse: 0.4756 - val_loss: 0.1530 - val_mse: 0.3112\n",
      "\n",
      "Epoch 00006: val_loss improved from 0.16366 to 0.15296, saving model to ./bag-of-words\n",
      "Epoch 7/20\n",
      "440/440 [==============================] - 4s 6ms/step - loss: 0.2009 - mse: 0.4224 - val_loss: 0.1454 - val_mse: 0.2954\n",
      "\n",
      "Epoch 00007: val_loss improved from 0.15296 to 0.14544, saving model to ./bag-of-words\n",
      "Epoch 8/20\n",
      "440/440 [==============================] - 4s 6ms/step - loss: 0.1695 - mse: 0.3514 - val_loss: 0.1418 - val_mse: 0.2872\n",
      "\n",
      "Epoch 00008: val_loss improved from 0.14544 to 0.14176, saving model to ./bag-of-words\n",
      "Epoch 9/20\n",
      "440/440 [==============================] - 4s 6ms/step - loss: 0.1559 - mse: 0.3218 - val_loss: 0.1412 - val_mse: 0.2864\n",
      "\n",
      "Epoch 00009: val_loss improved from 0.14176 to 0.14124, saving model to ./bag-of-words\n",
      "Epoch 10/20\n",
      "440/440 [==============================] - 4s 6ms/step - loss: 0.1408 - mse: 0.2888 - val_loss: 0.1356 - val_mse: 0.2746\n",
      "\n",
      "Epoch 00010: val_loss improved from 0.14124 to 0.13557, saving model to ./bag-of-words\n",
      "Epoch 11/20\n",
      "440/440 [==============================] - 4s 6ms/step - loss: 0.1284 - mse: 0.2620 - val_loss: 0.1395 - val_mse: 0.2833\n",
      "\n",
      "Epoch 00011: val_loss did not improve from 0.13557\n",
      "Epoch 12/20\n",
      "440/440 [==============================] - 4s 6ms/step - loss: 0.1170 - mse: 0.2379 - val_loss: 0.1397 - val_mse: 0.2835\n",
      "\n",
      "Epoch 00012: val_loss did not improve from 0.13557\n",
      "\n",
      "Epoch 00012: ReduceLROnPlateau reducing learning rate to 0.0003000000142492354.\n",
      "Epoch 13/20\n",
      "440/440 [==============================] - 4s 6ms/step - loss: 0.1070 - mse: 0.2165 - val_loss: 0.1358 - val_mse: 0.2751\n",
      "\n",
      "Epoch 00013: val_loss did not improve from 0.13557\n",
      "Epoch 14/20\n",
      "440/440 [==============================] - 4s 6ms/step - loss: 0.1013 - mse: 0.2049 - val_loss: 0.1360 - val_mse: 0.2756\n",
      "\n",
      "Epoch 00014: val_loss did not improve from 0.13557\n",
      "\n",
      "Epoch 00014: ReduceLROnPlateau reducing learning rate to 9.000000427477062e-05.\n",
      "Epoch 15/20\n",
      "440/440 [==============================] - 4s 6ms/step - loss: 0.1005 - mse: 0.2037 - val_loss: 0.1363 - val_mse: 0.2763\n",
      "\n",
      "Epoch 00015: val_loss did not improve from 0.13557\n",
      "Epoch 16/20\n",
      "440/440 [==============================] - 4s 6ms/step - loss: 0.0972 - mse: 0.1967 - val_loss: 0.1355 - val_mse: 0.2747\n",
      "\n",
      "Epoch 00016: val_loss improved from 0.13557 to 0.13551, saving model to ./bag-of-words\n",
      "\n",
      "Epoch 00016: ReduceLROnPlateau reducing learning rate to 2.700000040931627e-05.\n",
      "Epoch 17/20\n",
      "440/440 [==============================] - 4s 6ms/step - loss: 0.0993 - mse: 0.2008 - val_loss: 0.1361 - val_mse: 0.2759\n",
      "\n",
      "Epoch 00017: val_loss did not improve from 0.13551\n",
      "Epoch 18/20\n",
      "440/440 [==============================] - 4s 6ms/step - loss: 0.0972 - mse: 0.1966 - val_loss: 0.1359 - val_mse: 0.2754\n",
      "\n",
      "Epoch 00018: val_loss did not improve from 0.13551\n",
      "\n",
      "Epoch 00018: ReduceLROnPlateau reducing learning rate to 8.100000013655517e-06.\n",
      "Epoch 19/20\n",
      "440/440 [==============================] - 4s 7ms/step - loss: 0.0966 - mse: 0.1949 - val_loss: 0.1360 - val_mse: 0.2756\n",
      "\n",
      "Epoch 00019: val_loss did not improve from 0.13551\n",
      "Epoch 20/20\n",
      "440/440 [==============================] - 4s 6ms/step - loss: 0.0963 - mse: 0.1949 - val_loss: 0.1360 - val_mse: 0.2757\n",
      "\n",
      "Epoch 00020: val_loss did not improve from 0.13551\n",
      "\n",
      "Epoch 00020: ReduceLROnPlateau reducing learning rate to 2.429999949526973e-06.\n"
     ]
    }
   ],
   "source": [
    "callbacks = [\n",
    "    tf.keras.callbacks.ModelCheckpoint(\"./bag-of-words\",\n",
    "                                       monitor='val_loss', \n",
    "                                       save_best_only=True, \n",
    "                                       mode = 'min', verbose = 1),\n",
    "    tf.keras.callbacks.ReduceLROnPlateau(monitor = 'val_loss', factor = 0.3, \n",
    "                                         patience = 2, min_lr = 1e-8,  \n",
    "                                         mode = 'min', verbose = 1)\n",
    "]\n",
    "history = model.fit(train_ds, \n",
    "                    validation_data=val_ds, \n",
    "                    epochs=20, \n",
    "                    callbacks=callbacks)"
   ]
  },
  {
   "cell_type": "code",
   "execution_count": 15,
   "id": "8059370a",
   "metadata": {
    "execution": {
     "iopub.execute_input": "2022-10-05T08:24:49.740147Z",
     "iopub.status.busy": "2022-10-05T08:24:49.739749Z",
     "iopub.status.idle": "2022-10-05T08:24:50.218656Z",
     "shell.execute_reply": "2022-10-05T08:24:50.217844Z"
    },
    "papermill": {
     "duration": 0.548255,
     "end_time": "2022-10-05T08:24:50.220730",
     "exception": false,
     "start_time": "2022-10-05T08:24:49.672475",
     "status": "completed"
    },
    "tags": []
   },
   "outputs": [
    {
     "data": {
      "text/plain": [
       "<AxesSubplot:>"
      ]
     },
     "execution_count": 15,
     "metadata": {},
     "output_type": "execute_result"
    },
    {
     "data": {
      "image/png": "[encoded data removed]",
      "text/plain": [
       "<Figure size 432x288 with 1 Axes>"
      ]
     },
     "metadata": {
      "needs_background": "light"
     },
     "output_type": "display_data"
    },
    {
     "data": {
      "image/png": "[encoded data removed]",
      "text/plain": [
       "<Figure size 432x288 with 1 Axes>"
      ]
     },
     "metadata": {
      "needs_background": "light"
     },
     "output_type": "display_data"
    }
   ],
   "source": [
    "history_frame = pd.DataFrame(history.history)\n",
    "history_frame.loc[:, ['loss', 'val_loss']].plot()\n",
    "history_frame.loc[:, ['mse', 'val_mse']].plot()"
   ]
  },
  {
   "cell_type": "markdown",
   "id": "6d72cabf",
   "metadata": {
    "papermill": {
     "duration": 0.066437,
     "end_time": "2022-10-05T08:24:50.353665",
     "exception": false,
     "start_time": "2022-10-05T08:24:50.287228",
     "status": "completed"
    },
    "tags": []
   },
   "source": [
    "# Submission"
   ]
  },
  {
   "cell_type": "code",
   "execution_count": 16,
   "id": "9e3c4fa0",
   "metadata": {
    "execution": {
     "iopub.execute_input": "2022-10-05T08:24:50.489926Z",
     "iopub.status.busy": "2022-10-05T08:24:50.488557Z",
     "iopub.status.idle": "2022-10-05T08:24:50.713176Z",
     "shell.execute_reply": "2022-10-05T08:24:50.712037Z"
    },
    "papermill": {
     "duration": 0.295888,
     "end_time": "2022-10-05T08:24:50.716442",
     "exception": false,
     "start_time": "2022-10-05T08:24:50.420554",
     "status": "completed"
    },
    "tags": []
   },
   "outputs": [],
   "source": [
    "model = tf.keras.models.load_model('bag-of-words')"
   ]
  },
  {
   "cell_type": "code",
   "execution_count": 17,
   "id": "1dffd455",
   "metadata": {
    "execution": {
     "iopub.execute_input": "2022-10-05T08:24:50.851916Z",
     "iopub.status.busy": "2022-10-05T08:24:50.850645Z",
     "iopub.status.idle": "2022-10-05T08:24:50.868894Z",
     "shell.execute_reply": "2022-10-05T08:24:50.867773Z"
    },
    "papermill": {
     "duration": 0.08796,
     "end_time": "2022-10-05T08:24:50.871216",
     "exception": false,
     "start_time": "2022-10-05T08:24:50.783256",
     "status": "completed"
    },
    "tags": []
   },
   "outputs": [
    {
     "data": {
      "text/html": [
       "<div>\n",
       "<style scoped>\n",
       "    .dataframe tbody tr th:only-of-type {\n",
       "        vertical-align: middle;\n",
       "    }\n",
       "\n",
       "    .dataframe tbody tr th {\n",
       "        vertical-align: top;\n",
       "    }\n",
       "\n",
       "    .dataframe thead th {\n",
       "        text-align: right;\n",
       "    }\n",
       "</style>\n",
       "<table border=\"1\" class=\"dataframe\">\n",
       "  <thead>\n",
       "    <tr style=\"text-align: right;\">\n",
       "      <th></th>\n",
       "      <th>text_id</th>\n",
       "      <th>full_text</th>\n",
       "    </tr>\n",
       "  </thead>\n",
       "  <tbody>\n",
       "    <tr>\n",
       "      <th>0</th>\n",
       "      <td>0000C359D63E</td>\n",
       "      <td>when a person has no experience on a job their...</td>\n",
       "    </tr>\n",
       "    <tr>\n",
       "      <th>1</th>\n",
       "      <td>000BAD50D026</td>\n",
       "      <td>Do you think students would benefit from being...</td>\n",
       "    </tr>\n",
       "    <tr>\n",
       "      <th>2</th>\n",
       "      <td>00367BB2546B</td>\n",
       "      <td>Thomas Jefferson once states that \"it is wonde...</td>\n",
       "    </tr>\n",
       "  </tbody>\n",
       "</table>\n",
       "</div>"
      ],
      "text/plain": [
       "        text_id                                          full_text\n",
       "0  0000C359D63E  when a person has no experience on a job their...\n",
       "1  000BAD50D026  Do you think students would benefit from being...\n",
       "2  00367BB2546B  Thomas Jefferson once states that \"it is wonde..."
      ]
     },
     "execution_count": 17,
     "metadata": {},
     "output_type": "execute_result"
    }
   ],
   "source": [
    "test_df = pd.read_csv('../input/feedback-prize-english-language-learning/test.csv')\n",
    "test_df.head()"
   ]
  },
  {
   "cell_type": "code",
   "execution_count": 18,
   "id": "bb995a4f",
   "metadata": {
    "execution": {
     "iopub.execute_input": "2022-10-05T08:24:51.006851Z",
     "iopub.status.busy": "2022-10-05T08:24:51.005902Z",
     "iopub.status.idle": "2022-10-05T08:24:51.288200Z",
     "shell.execute_reply": "2022-10-05T08:24:51.287044Z"
    },
    "papermill": {
     "duration": 0.353013,
     "end_time": "2022-10-05T08:24:51.290923",
     "exception": false,
     "start_time": "2022-10-05T08:24:50.937910",
     "status": "completed"
    },
    "tags": []
   },
   "outputs": [],
   "source": [
    "preds_list = []\n",
    "for index, row in test_df.iterrows():\n",
    "    preds = model.predict(\n",
    "        tf.expand_dims(\n",
    "            bag_vectorization(tf.convert_to_tensor(row['full_text'])), \n",
    "            axis=0\n",
    "        )\n",
    "    )\n",
    "    preds = np.clip(preds, 1, 5)\n",
    "    preds_list.append(preds[0])"
   ]
  },
  {
   "cell_type": "code",
   "execution_count": 19,
   "id": "973d4534",
   "metadata": {
    "execution": {
     "iopub.execute_input": "2022-10-05T08:24:51.428221Z",
     "iopub.status.busy": "2022-10-05T08:24:51.427809Z",
     "iopub.status.idle": "2022-10-05T08:24:51.438899Z",
     "shell.execute_reply": "2022-10-05T08:24:51.438048Z"
    },
    "papermill": {
     "duration": 0.08193,
     "end_time": "2022-10-05T08:24:51.441040",
     "exception": false,
     "start_time": "2022-10-05T08:24:51.359110",
     "status": "completed"
    },
    "tags": []
   },
   "outputs": [],
   "source": [
    "sub_df = pd.concat([test_df[['text_id']], pd.DataFrame(preds_list, columns=TARGET_COLS)], axis=1)\n",
    "sub_df.to_csv('submission.csv', index=False)"
   ]
  },
  {
   "cell_type": "code",
   "execution_count": 20,
   "id": "87ddef39",
   "metadata": {
    "execution": {
     "iopub.execute_input": "2022-10-05T08:24:51.575181Z",
     "iopub.status.busy": "2022-10-05T08:24:51.574267Z",
     "iopub.status.idle": "2022-10-05T08:24:51.588461Z",
     "shell.execute_reply": "2022-10-05T08:24:51.587374Z"
    },
    "papermill": {
     "duration": 0.083659,
     "end_time": "2022-10-05T08:24:51.590723",
     "exception": false,
     "start_time": "2022-10-05T08:24:51.507064",
     "status": "completed"
    },
    "tags": []
   },
   "outputs": [
    {
     "data": {
      "text/html": [
       "<div>\n",
       "<style scoped>\n",
       "    .dataframe tbody tr th:only-of-type {\n",
       "        vertical-align: middle;\n",
       "    }\n",
       "\n",
       "    .dataframe tbody tr th {\n",
       "        vertical-align: top;\n",
       "    }\n",
       "\n",
       "    .dataframe thead th {\n",
       "        text-align: right;\n",
       "    }\n",
       "</style>\n",
       "<table border=\"1\" class=\"dataframe\">\n",
       "  <thead>\n",
       "    <tr style=\"text-align: right;\">\n",
       "      <th></th>\n",
       "      <th>text_id</th>\n",
       "      <th>cohesion</th>\n",
       "      <th>syntax</th>\n",
       "      <th>vocabulary</th>\n",
       "      <th>phraseology</th>\n",
       "      <th>grammar</th>\n",
       "      <th>conventions</th>\n",
       "    </tr>\n",
       "  </thead>\n",
       "  <tbody>\n",
       "    <tr>\n",
       "      <th>0</th>\n",
       "      <td>0000C359D63E</td>\n",
       "      <td>2.703732</td>\n",
       "      <td>2.618363</td>\n",
       "      <td>2.902267</td>\n",
       "      <td>2.678169</td>\n",
       "      <td>2.536679</td>\n",
       "      <td>2.665769</td>\n",
       "    </tr>\n",
       "    <tr>\n",
       "      <th>1</th>\n",
       "      <td>000BAD50D026</td>\n",
       "      <td>2.634762</td>\n",
       "      <td>2.533768</td>\n",
       "      <td>2.793166</td>\n",
       "      <td>2.593060</td>\n",
       "      <td>2.460475</td>\n",
       "      <td>2.585933</td>\n",
       "    </tr>\n",
       "    <tr>\n",
       "      <th>2</th>\n",
       "      <td>00367BB2546B</td>\n",
       "      <td>3.494394</td>\n",
       "      <td>3.364597</td>\n",
       "      <td>3.544279</td>\n",
       "      <td>3.455393</td>\n",
       "      <td>3.373642</td>\n",
       "      <td>3.413532</td>\n",
       "    </tr>\n",
       "  </tbody>\n",
       "</table>\n",
       "</div>"
      ],
      "text/plain": [
       "        text_id  cohesion    syntax  vocabulary  phraseology   grammar  \\\n",
       "0  0000C359D63E  2.703732  2.618363    2.902267     2.678169  2.536679   \n",
       "1  000BAD50D026  2.634762  2.533768    2.793166     2.593060  2.460475   \n",
       "2  00367BB2546B  3.494394  3.364597    3.544279     3.455393  3.373642   \n",
       "\n",
       "   conventions  \n",
       "0     2.665769  \n",
       "1     2.585933  \n",
       "2     3.413532  "
      ]
     },
     "execution_count": 20,
     "metadata": {},
     "output_type": "execute_result"
    }
   ],
   "source": [
    "sub_df.head()"
   ]
  }
 ],
 "metadata": {
  "kernelspec": {
   "display_name": "Python 3",
   "language": "python",
   "name": "python3"
  },
  "language_info": {
   "codemirror_mode": {
    "name": "ipython",
    "version": 3
   },
   "file_extension": ".py",
   "mimetype": "text/x-python",
   "name": "python",
   "nbconvert_exporter": "python",
   "pygments_lexer": "ipython3",
   "version": "3.7.12"
  },
  "papermill": {
   "default_parameters": {},
   "duration": 138.196102,
   "end_time": "2022-10-05T08:24:54.423753",
   "environment_variables": {},
   "exception": null,
   "input_path": "__notebook__.ipynb",
   "output_path": "__notebook__.ipynb",
   "parameters": {},
   "start_time": "2022-10-05T08:22:36.227651",
   "version": "2.3.4"
  }
 },
 "nbformat": 4,
 "nbformat_minor": 5
}
