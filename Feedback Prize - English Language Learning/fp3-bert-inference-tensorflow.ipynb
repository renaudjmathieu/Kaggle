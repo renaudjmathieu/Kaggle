{
 "cells": [
  {
   "cell_type": "markdown",
   "id": "dc2376af",
   "metadata": {
    "papermill": {
     "duration": 0.004069,
     "end_time": "2022-10-09T10:05:51.375160",
     "exception": false,
     "start_time": "2022-10-09T10:05:51.371091",
     "status": "completed"
    },
    "tags": []
   },
   "source": [
    "# HuggingFace BERT model inference with TensorFlow\n",
    "\n",
    "This notebook is the inference of [BERT fine-tuning notebook](https://www.kaggle.com/code/electro/fp3-bert-fine-tuning-tensorflow).\n",
    "\n",
    "I also have [a basic EDA and bag-of-words solution](https://www.kaggle.com/code/electro/fp3-bag-of-words-tensorflow-starter). Please check it out if you are interested.\n",
    "\n",
    "If you find this notebook helpful, please upvote it. Thank you."
   ]
  },
  {
   "cell_type": "markdown",
   "id": "eb247e61",
   "metadata": {
    "papermill": {
     "duration": 0.002823,
     "end_time": "2022-10-09T10:05:51.381266",
     "exception": false,
     "start_time": "2022-10-09T10:05:51.378443",
     "status": "completed"
    },
    "tags": []
   },
   "source": [
    "# Imports"
   ]
  },
  {
   "cell_type": "code",
   "execution_count": 1,
   "id": "19b755c4",
   "metadata": {
    "execution": {
     "iopub.execute_input": "2022-10-09T10:05:51.389224Z",
     "iopub.status.busy": "2022-10-09T10:05:51.388520Z",
     "iopub.status.idle": "2022-10-09T10:05:56.302304Z",
     "shell.execute_reply": "2022-10-09T10:05:56.301367Z"
    },
    "papermill": {
     "duration": 4.920395,
     "end_time": "2022-10-09T10:05:56.304705",
     "exception": false,
     "start_time": "2022-10-09T10:05:51.384310",
     "status": "completed"
    },
    "tags": []
   },
   "outputs": [],
   "source": [
    "import numpy as np\n",
    "import pandas as pd\n",
    "import tensorflow as tf\n",
    "import transformers"
   ]
  },
  {
   "cell_type": "markdown",
   "id": "42f7b401",
   "metadata": {
    "papermill": {
     "duration": 0.003261,
     "end_time": "2022-10-09T10:05:56.311437",
     "exception": false,
     "start_time": "2022-10-09T10:05:56.308176",
     "status": "completed"
    },
    "tags": []
   },
   "source": [
    "# Config"
   ]
  },
  {
   "cell_type": "code",
   "execution_count": 2,
   "id": "7d67b251",
   "metadata": {
    "execution": {
     "iopub.execute_input": "2022-10-09T10:05:56.319394Z",
     "iopub.status.busy": "2022-10-09T10:05:56.318914Z",
     "iopub.status.idle": "2022-10-09T10:05:56.324018Z",
     "shell.execute_reply": "2022-10-09T10:05:56.323105Z"
    },
    "papermill": {
     "duration": 0.011331,
     "end_time": "2022-10-09T10:05:56.325860",
     "exception": false,
     "start_time": "2022-10-09T10:05:56.314529",
     "status": "completed"
    },
    "tags": []
   },
   "outputs": [],
   "source": [
    "TARGET_COLS = ['cohesion', 'syntax', 'vocabulary', 'phraseology', 'grammar', 'conventions']\n",
    "\n",
    "MAX_LENGTH = 512\n",
    "BATCH_SIZE = 1\n",
    "OFFLINE_TOKENIZER = \"../input/tfbert-base-uncased\""
   ]
  },
  {
   "cell_type": "markdown",
   "id": "33e29e80",
   "metadata": {
    "papermill": {
     "duration": 0.003032,
     "end_time": "2022-10-09T10:05:56.332072",
     "exception": false,
     "start_time": "2022-10-09T10:05:56.329040",
     "status": "completed"
    },
    "tags": []
   },
   "source": [
    "# Load Data"
   ]
  },
  {
   "cell_type": "code",
   "execution_count": 3,
   "id": "5a42d2f5",
   "metadata": {
    "execution": {
     "iopub.execute_input": "2022-10-09T10:05:56.339765Z",
     "iopub.status.busy": "2022-10-09T10:05:56.338973Z",
     "iopub.status.idle": "2022-10-09T10:05:56.365633Z",
     "shell.execute_reply": "2022-10-09T10:05:56.364644Z"
    },
    "papermill": {
     "duration": 0.033453,
     "end_time": "2022-10-09T10:05:56.368545",
     "exception": false,
     "start_time": "2022-10-09T10:05:56.335092",
     "status": "completed"
    },
    "tags": []
   },
   "outputs": [
    {
     "data": {
      "text/html": [
       "<div>\n",
       "<style scoped>\n",
       "    .dataframe tbody tr th:only-of-type {\n",
       "        vertical-align: middle;\n",
       "    }\n",
       "\n",
       "    .dataframe tbody tr th {\n",
       "        vertical-align: top;\n",
       "    }\n",
       "\n",
       "    .dataframe thead th {\n",
       "        text-align: right;\n",
       "    }\n",
       "</style>\n",
       "<table border=\"1\" class=\"dataframe\">\n",
       "  <thead>\n",
       "    <tr style=\"text-align: right;\">\n",
       "      <th></th>\n",
       "      <th>text_id</th>\n",
       "      <th>full_text</th>\n",
       "    </tr>\n",
       "  </thead>\n",
       "  <tbody>\n",
       "    <tr>\n",
       "      <th>0</th>\n",
       "      <td>0000C359D63E</td>\n",
       "      <td>when a person has no experience on a job their...</td>\n",
       "    </tr>\n",
       "    <tr>\n",
       "      <th>1</th>\n",
       "      <td>000BAD50D026</td>\n",
       "      <td>Do you think students would benefit from being...</td>\n",
       "    </tr>\n",
       "    <tr>\n",
       "      <th>2</th>\n",
       "      <td>00367BB2546B</td>\n",
       "      <td>Thomas Jefferson once states that \"it is wonde...</td>\n",
       "    </tr>\n",
       "  </tbody>\n",
       "</table>\n",
       "</div>"
      ],
      "text/plain": [
       "        text_id                                          full_text\n",
       "0  0000C359D63E  when a person has no experience on a job their...\n",
       "1  000BAD50D026  Do you think students would benefit from being...\n",
       "2  00367BB2546B  Thomas Jefferson once states that \"it is wonde..."
      ]
     },
     "execution_count": 3,
     "metadata": {},
     "output_type": "execute_result"
    }
   ],
   "source": [
    "test_df = pd.read_csv('../input/feedback-prize-english-language-learning/test.csv')\n",
    "test_df.head()"
   ]
  },
  {
   "cell_type": "code",
   "execution_count": 4,
   "id": "e2d7e930",
   "metadata": {
    "execution": {
     "iopub.execute_input": "2022-10-09T10:05:56.376467Z",
     "iopub.status.busy": "2022-10-09T10:05:56.376207Z",
     "iopub.status.idle": "2022-10-09T10:05:57.172134Z",
     "shell.execute_reply": "2022-10-09T10:05:57.171166Z"
    },
    "papermill": {
     "duration": 0.802747,
     "end_time": "2022-10-09T10:05:57.174558",
     "exception": false,
     "start_time": "2022-10-09T10:05:56.371811",
     "status": "completed"
    },
    "tags": []
   },
   "outputs": [],
   "source": [
    "#https://keras.io/examples/nlp/semantic_similarity_with_bert/\n",
    "class BertDataGenerator(tf.keras.utils.Sequence):\n",
    "    def __init__(\n",
    "        self,\n",
    "        full_texts,\n",
    "        labels=None,\n",
    "        batch_size=BATCH_SIZE,\n",
    "        shuffle=False,\n",
    "        include_targets=False,\n",
    "    ):\n",
    "        self.full_texts = full_texts\n",
    "        self.labels = labels\n",
    "        self.shuffle = shuffle\n",
    "        self.batch_size = batch_size\n",
    "        self.include_targets = include_targets\n",
    "        self.tokenizer = transformers.BertTokenizer.from_pretrained(\n",
    "            OFFLINE_TOKENIZER, do_lower_case=True\n",
    "        )\n",
    "        self.indexes = np.arange(len(self.full_texts))\n",
    "        self.on_epoch_end()\n",
    "\n",
    "    def __len__(self):\n",
    "        return len(self.full_texts) // self.batch_size\n",
    "\n",
    "    def __getitem__(self, idx):\n",
    "        indexes = self.indexes[idx * self.batch_size : (idx + 1) * self.batch_size]\n",
    "        batch_texts = self.full_texts[indexes]\n",
    "\n",
    "        encoded = self.tokenizer.batch_encode_plus(\n",
    "            batch_texts.tolist(),\n",
    "            add_special_tokens=True,\n",
    "            max_length=MAX_LENGTH,\n",
    "            return_attention_mask=True,\n",
    "            return_token_type_ids=True,\n",
    "            return_tensors=\"tf\",\n",
    "            truncation=True,\n",
    "            padding='max_length'\n",
    "        )\n",
    "\n",
    "        input_ids = np.array(encoded[\"input_ids\"], dtype=\"int32\")\n",
    "        attention_masks = np.array(encoded[\"attention_mask\"], dtype=\"int32\")\n",
    "        token_type_ids = np.array(encoded[\"token_type_ids\"], dtype=\"int32\")\n",
    "\n",
    "        if self.include_targets:\n",
    "            labels = np.array(self.labels[indexes], dtype=\"float32\")\n",
    "            return [input_ids, attention_masks, token_type_ids], labels\n",
    "        else:\n",
    "            return [input_ids, attention_masks, token_type_ids]\n",
    "\n",
    "    def on_epoch_end(self):\n",
    "        if self.shuffle:\n",
    "            np.random.RandomState(42).shuffle(self.indexes)"
   ]
  },
  {
   "cell_type": "code",
   "execution_count": 5,
   "id": "c58be3ba",
   "metadata": {
    "execution": {
     "iopub.execute_input": "2022-10-09T10:05:57.182620Z",
     "iopub.status.busy": "2022-10-09T10:05:57.182327Z",
     "iopub.status.idle": "2022-10-09T10:05:57.720706Z",
     "shell.execute_reply": "2022-10-09T10:05:57.719786Z"
    },
    "papermill": {
     "duration": 0.545009,
     "end_time": "2022-10-09T10:05:57.723081",
     "exception": false,
     "start_time": "2022-10-09T10:05:57.178072",
     "status": "completed"
    },
    "tags": []
   },
   "outputs": [],
   "source": [
    "test_data = BertDataGenerator(\n",
    "    test_df[\"full_text\"].values.astype(\"str\"),\n",
    "    batch_size=BATCH_SIZE,\n",
    "    shuffle=False,\n",
    ")"
   ]
  },
  {
   "cell_type": "markdown",
   "id": "61529dec",
   "metadata": {
    "papermill": {
     "duration": 0.003093,
     "end_time": "2022-10-09T10:05:57.729789",
     "exception": false,
     "start_time": "2022-10-09T10:05:57.726696",
     "status": "completed"
    },
    "tags": []
   },
   "source": [
    "# Load Model"
   ]
  },
  {
   "cell_type": "code",
   "execution_count": 6,
   "id": "ebfc8f07",
   "metadata": {
    "execution": {
     "iopub.execute_input": "2022-10-09T10:05:57.737602Z",
     "iopub.status.busy": "2022-10-09T10:05:57.737313Z",
     "iopub.status.idle": "2022-10-09T10:06:18.621869Z",
     "shell.execute_reply": "2022-10-09T10:06:18.620871Z"
    },
    "papermill": {
     "duration": 20.891854,
     "end_time": "2022-10-09T10:06:18.624908",
     "exception": false,
     "start_time": "2022-10-09T10:05:57.733054",
     "status": "completed"
    },
    "tags": []
   },
   "outputs": [
    {
     "name": "stderr",
     "output_type": "stream",
     "text": [
      "2022-10-09 10:05:58.029108: I tensorflow/stream_executor/cuda/cuda_gpu_executor.cc:937] successful NUMA node read from SysFS had negative value (-1), but there must be at least one NUMA node, so returning NUMA node zero\n",
      "2022-10-09 10:05:58.147897: I tensorflow/stream_executor/cuda/cuda_gpu_executor.cc:937] successful NUMA node read from SysFS had negative value (-1), but there must be at least one NUMA node, so returning NUMA node zero\n",
      "2022-10-09 10:05:58.148671: I tensorflow/stream_executor/cuda/cuda_gpu_executor.cc:937] successful NUMA node read from SysFS had negative value (-1), but there must be at least one NUMA node, so returning NUMA node zero\n",
      "2022-10-09 10:05:58.150609: I tensorflow/core/platform/cpu_feature_guard.cc:142] This TensorFlow binary is optimized with oneAPI Deep Neural Network Library (oneDNN) to use the following CPU instructions in performance-critical operations:  AVX2 AVX512F FMA\n",
      "To enable them in other operations, rebuild TensorFlow with the appropriate compiler flags.\n",
      "2022-10-09 10:05:58.154792: I tensorflow/stream_executor/cuda/cuda_gpu_executor.cc:937] successful NUMA node read from SysFS had negative value (-1), but there must be at least one NUMA node, so returning NUMA node zero\n",
      "2022-10-09 10:05:58.155485: I tensorflow/stream_executor/cuda/cuda_gpu_executor.cc:937] successful NUMA node read from SysFS had negative value (-1), but there must be at least one NUMA node, so returning NUMA node zero\n",
      "2022-10-09 10:05:58.156169: I tensorflow/stream_executor/cuda/cuda_gpu_executor.cc:937] successful NUMA node read from SysFS had negative value (-1), but there must be at least one NUMA node, so returning NUMA node zero\n",
      "2022-10-09 10:06:00.467776: I tensorflow/stream_executor/cuda/cuda_gpu_executor.cc:937] successful NUMA node read from SysFS had negative value (-1), but there must be at least one NUMA node, so returning NUMA node zero\n",
      "2022-10-09 10:06:00.468593: I tensorflow/stream_executor/cuda/cuda_gpu_executor.cc:937] successful NUMA node read from SysFS had negative value (-1), but there must be at least one NUMA node, so returning NUMA node zero\n",
      "2022-10-09 10:06:00.469321: I tensorflow/stream_executor/cuda/cuda_gpu_executor.cc:937] successful NUMA node read from SysFS had negative value (-1), but there must be at least one NUMA node, so returning NUMA node zero\n",
      "2022-10-09 10:06:00.469982: I tensorflow/core/common_runtime/gpu/gpu_device.cc:1510] Created device /job:localhost/replica:0/task:0/device:GPU:0 with 15401 MB memory:  -> device: 0, name: Tesla P100-PCIE-16GB, pci bus id: 0000:00:04.0, compute capability: 6.0\n"
     ]
    }
   ],
   "source": [
    "model = tf.keras.models.load_model('../input/fp3-model-bert-public/bert-finetuning', compile=False)"
   ]
  },
  {
   "cell_type": "code",
   "execution_count": 7,
   "id": "5252c577",
   "metadata": {
    "execution": {
     "iopub.execute_input": "2022-10-09T10:06:18.666368Z",
     "iopub.status.busy": "2022-10-09T10:06:18.665996Z",
     "iopub.status.idle": "2022-10-09T10:06:20.935401Z",
     "shell.execute_reply": "2022-10-09T10:06:20.934380Z"
    },
    "papermill": {
     "duration": 2.307119,
     "end_time": "2022-10-09T10:06:20.937831",
     "exception": false,
     "start_time": "2022-10-09T10:06:18.630712",
     "status": "completed"
    },
    "tags": []
   },
   "outputs": [
    {
     "name": "stderr",
     "output_type": "stream",
     "text": [
      "2022-10-09 10:06:18.746266: I tensorflow/compiler/mlir/mlir_graph_optimization_pass.cc:185] None of the MLIR Optimization Passes are enabled (registered 2)\n"
     ]
    }
   ],
   "source": [
    "preds = model.predict(test_data)\n",
    "preds = np.clip(preds, 1, 5)"
   ]
  },
  {
   "cell_type": "markdown",
   "id": "4d3d0c15",
   "metadata": {
    "papermill": {
     "duration": 0.003374,
     "end_time": "2022-10-09T10:06:20.945034",
     "exception": false,
     "start_time": "2022-10-09T10:06:20.941660",
     "status": "completed"
    },
    "tags": []
   },
   "source": [
    "# Submission"
   ]
  },
  {
   "cell_type": "code",
   "execution_count": 8,
   "id": "ee263bc0",
   "metadata": {
    "execution": {
     "iopub.execute_input": "2022-10-09T10:06:20.953639Z",
     "iopub.status.busy": "2022-10-09T10:06:20.952693Z",
     "iopub.status.idle": "2022-10-09T10:06:20.964232Z",
     "shell.execute_reply": "2022-10-09T10:06:20.963380Z"
    },
    "papermill": {
     "duration": 0.017825,
     "end_time": "2022-10-09T10:06:20.966256",
     "exception": false,
     "start_time": "2022-10-09T10:06:20.948431",
     "status": "completed"
    },
    "tags": []
   },
   "outputs": [],
   "source": [
    "sub_df = pd.concat([test_df[['text_id']], pd.DataFrame(preds, columns=TARGET_COLS)], axis=1)\n",
    "sub_df.to_csv('submission.csv', index=False)"
   ]
  },
  {
   "cell_type": "code",
   "execution_count": 9,
   "id": "bc31b422",
   "metadata": {
    "execution": {
     "iopub.execute_input": "2022-10-09T10:06:20.974367Z",
     "iopub.status.busy": "2022-10-09T10:06:20.974102Z",
     "iopub.status.idle": "2022-10-09T10:06:20.987123Z",
     "shell.execute_reply": "2022-10-09T10:06:20.986108Z"
    },
    "papermill": {
     "duration": 0.020158,
     "end_time": "2022-10-09T10:06:20.989798",
     "exception": false,
     "start_time": "2022-10-09T10:06:20.969640",
     "status": "completed"
    },
    "tags": []
   },
   "outputs": [
    {
     "data": {
      "text/html": [
       "<div>\n",
       "<style scoped>\n",
       "    .dataframe tbody tr th:only-of-type {\n",
       "        vertical-align: middle;\n",
       "    }\n",
       "\n",
       "    .dataframe tbody tr th {\n",
       "        vertical-align: top;\n",
       "    }\n",
       "\n",
       "    .dataframe thead th {\n",
       "        text-align: right;\n",
       "    }\n",
       "</style>\n",
       "<table border=\"1\" class=\"dataframe\">\n",
       "  <thead>\n",
       "    <tr style=\"text-align: right;\">\n",
       "      <th></th>\n",
       "      <th>text_id</th>\n",
       "      <th>cohesion</th>\n",
       "      <th>syntax</th>\n",
       "      <th>vocabulary</th>\n",
       "      <th>phraseology</th>\n",
       "      <th>grammar</th>\n",
       "      <th>conventions</th>\n",
       "    </tr>\n",
       "  </thead>\n",
       "  <tbody>\n",
       "    <tr>\n",
       "      <th>0</th>\n",
       "      <td>0000C359D63E</td>\n",
       "      <td>2.929134</td>\n",
       "      <td>2.913305</td>\n",
       "      <td>3.260777</td>\n",
       "      <td>3.229188</td>\n",
       "      <td>2.817615</td>\n",
       "      <td>2.923548</td>\n",
       "    </tr>\n",
       "    <tr>\n",
       "      <th>1</th>\n",
       "      <td>000BAD50D026</td>\n",
       "      <td>2.627238</td>\n",
       "      <td>2.462691</td>\n",
       "      <td>2.695321</td>\n",
       "      <td>2.423433</td>\n",
       "      <td>2.231280</td>\n",
       "      <td>2.732735</td>\n",
       "    </tr>\n",
       "    <tr>\n",
       "      <th>2</th>\n",
       "      <td>00367BB2546B</td>\n",
       "      <td>3.711233</td>\n",
       "      <td>3.604190</td>\n",
       "      <td>3.593739</td>\n",
       "      <td>3.573730</td>\n",
       "      <td>3.421958</td>\n",
       "      <td>3.872856</td>\n",
       "    </tr>\n",
       "  </tbody>\n",
       "</table>\n",
       "</div>"
      ],
      "text/plain": [
       "        text_id  cohesion    syntax  vocabulary  phraseology   grammar  \\\n",
       "0  0000C359D63E  2.929134  2.913305    3.260777     3.229188  2.817615   \n",
       "1  000BAD50D026  2.627238  2.462691    2.695321     2.423433  2.231280   \n",
       "2  00367BB2546B  3.711233  3.604190    3.593739     3.573730  3.421958   \n",
       "\n",
       "   conventions  \n",
       "0     2.923548  \n",
       "1     2.732735  \n",
       "2     3.872856  "
      ]
     },
     "execution_count": 9,
     "metadata": {},
     "output_type": "execute_result"
    }
   ],
   "source": [
    "sub_df.head()"
   ]
  }
 ],
 "metadata": {
  "kernelspec": {
   "display_name": "Python 3",
   "language": "python",
   "name": "python3"
  },
  "language_info": {
   "codemirror_mode": {
    "name": "ipython",
    "version": 3
   },
   "file_extension": ".py",
   "mimetype": "text/x-python",
   "name": "python",
   "nbconvert_exporter": "python",
   "pygments_lexer": "ipython3",
   "version": "3.7.12"
  },
  "papermill": {
   "default_parameters": {},
   "duration": 40.425591,
   "end_time": "2022-10-09T10:06:23.727937",
   "environment_variables": {},
   "exception": null,
   "input_path": "__notebook__.ipynb",
   "output_path": "__notebook__.ipynb",
   "parameters": {},
   "start_time": "2022-10-09T10:05:43.302346",
   "version": "2.3.4"
  }
 },
 "nbformat": 4,
 "nbformat_minor": 5
}
