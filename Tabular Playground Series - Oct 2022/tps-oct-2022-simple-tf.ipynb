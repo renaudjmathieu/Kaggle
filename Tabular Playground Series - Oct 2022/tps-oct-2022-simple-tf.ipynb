{
 "cells": [
  {
   "cell_type": "markdown",
   "id": "a858064f",
   "metadata": {
    "papermill": {
     "duration": 0.008088,
     "end_time": "2022-10-21T17:08:47.611376",
     "exception": false,
     "start_time": "2022-10-21T17:08:47.603288",
     "status": "completed"
    },
    "tags": []
   },
   "source": [
    "This is my first notebook for a Kaggle competition. In this I pretend to practice the TF skills gained during the period of training in the Google Developer Machine Learning Bootcamp.\n",
    "\n",
    "New things learned from other noteooks:\n",
    "* Feather format to rerieve data"
   ]
  },
  {
   "cell_type": "code",
   "execution_count": 3,
   "id": "cfbfdcdd",
   "metadata": {
    "execution": {
     "iopub.execute_input": "2022-10-21T17:08:47.627081Z",
     "iopub.status.busy": "2022-10-21T17:08:47.626324Z",
     "iopub.status.idle": "2022-10-21T17:08:54.464560Z",
     "shell.execute_reply": "2022-10-21T17:08:54.463645Z"
    },
    "papermill": {
     "duration": 6.849049,
     "end_time": "2022-10-21T17:08:54.467247",
     "exception": false,
     "start_time": "2022-10-21T17:08:47.618198",
     "status": "completed"
    },
    "tags": []
   },
   "outputs": [],
   "source": [
    "import os\n",
    "import gc\n",
    "import pandas as pd\n",
    "import tensorflow as tf\n",
    "import numpy as np\n",
    "\n",
    "from tensorflow import keras\n",
    "from tensorflow.keras import layers\n",
    "\n",
    "from sklearn.model_selection import train_test_split"
   ]
  },
  {
   "cell_type": "code",
   "execution_count": 4,
   "id": "6092c914",
   "metadata": {
    "execution": {
     "iopub.execute_input": "2022-10-21T17:08:54.483125Z",
     "iopub.status.busy": "2022-10-21T17:08:54.481827Z",
     "iopub.status.idle": "2022-10-21T17:08:54.486766Z",
     "shell.execute_reply": "2022-10-21T17:08:54.485881Z"
    },
    "papermill": {
     "duration": 0.014737,
     "end_time": "2022-10-21T17:08:54.488783",
     "exception": false,
     "start_time": "2022-10-21T17:08:54.474046",
     "status": "completed"
    },
    "tags": []
   },
   "outputs": [],
   "source": [
    "pd.options.display.max_columns = None"
   ]
  },
  {
   "cell_type": "markdown",
   "id": "f0a77998",
   "metadata": {
    "papermill": {
     "duration": 0.006091,
     "end_time": "2022-10-21T17:08:54.501386",
     "exception": false,
     "start_time": "2022-10-21T17:08:54.495295",
     "status": "completed"
    },
    "tags": []
   },
   "source": [
    "### Data source"
   ]
  },
  {
   "cell_type": "code",
   "execution_count": 5,
   "id": "2485d5ae",
   "metadata": {
    "execution": {
     "iopub.execute_input": "2022-10-21T17:08:54.515901Z",
     "iopub.status.busy": "2022-10-21T17:08:54.515525Z",
     "iopub.status.idle": "2022-10-21T17:08:54.519973Z",
     "shell.execute_reply": "2022-10-21T17:08:54.518920Z"
    },
    "papermill": {
     "duration": 0.014355,
     "end_time": "2022-10-21T17:08:54.522122",
     "exception": false,
     "start_time": "2022-10-21T17:08:54.507767",
     "status": "completed"
    },
    "tags": []
   },
   "outputs": [],
   "source": [
    "data_path = 'data/'\n",
    "feather_path = 'data/tpsoct22-feather-files/'"
   ]
  },
  {
   "cell_type": "code",
   "execution_count": 6,
   "id": "2fefa9a9",
   "metadata": {
    "execution": {
     "iopub.execute_input": "2022-10-21T17:08:54.536616Z",
     "iopub.status.busy": "2022-10-21T17:08:54.536230Z",
     "iopub.status.idle": "2022-10-21T17:08:54.541818Z",
     "shell.execute_reply": "2022-10-21T17:08:54.540783Z"
    },
    "papermill": {
     "duration": 0.01541,
     "end_time": "2022-10-21T17:08:54.543924",
     "exception": false,
     "start_time": "2022-10-21T17:08:54.528514",
     "status": "completed"
    },
    "tags": []
   },
   "outputs": [],
   "source": [
    "train_dtypes_file = os.path.join(data_path, 'train_dtypes.csv')\n",
    "test_dtypes_file = os.path.join(data_path, 'test_dtypes.csv')\n",
    "sample_submission_file = os.path.join(data_path, 'sample_submission.csv')\n",
    "test_feather_file = os.path.join(feather_path, 'test.feather')"
   ]
  },
  {
   "cell_type": "markdown",
   "id": "c80bce0d",
   "metadata": {
    "papermill": {
     "duration": 0.006421,
     "end_time": "2022-10-21T17:08:54.556822",
     "exception": false,
     "start_time": "2022-10-21T17:08:54.550401",
     "status": "completed"
    },
    "tags": []
   },
   "source": [
    "### Data analysis"
   ]
  },
  {
   "cell_type": "code",
   "execution_count": 7,
   "id": "8bc4ed6a",
   "metadata": {
    "execution": {
     "iopub.execute_input": "2022-10-21T17:08:54.571929Z",
     "iopub.status.busy": "2022-10-21T17:08:54.571577Z",
     "iopub.status.idle": "2022-10-21T17:08:54.597361Z",
     "shell.execute_reply": "2022-10-21T17:08:54.596419Z"
    },
    "papermill": {
     "duration": 0.036557,
     "end_time": "2022-10-21T17:08:54.599930",
     "exception": false,
     "start_time": "2022-10-21T17:08:54.563373",
     "status": "completed"
    },
    "tags": []
   },
   "outputs": [],
   "source": [
    "train_dtypes_df = pd.read_csv(train_dtypes_file)\n",
    "test_dtypes_df = pd.read_csv(test_dtypes_file)\n",
    "cols_dtypes = {k: v for (k, v) in zip(train_dtypes_df.column, train_dtypes_df.dtype)}"
   ]
  },
  {
   "cell_type": "code",
   "execution_count": 8,
   "id": "b5ea658c",
   "metadata": {
    "execution": {
     "iopub.execute_input": "2022-10-21T17:08:54.614788Z",
     "iopub.status.busy": "2022-10-21T17:08:54.614420Z",
     "iopub.status.idle": "2022-10-21T17:08:54.624521Z",
     "shell.execute_reply": "2022-10-21T17:08:54.623466Z"
    },
    "papermill": {
     "duration": 0.020499,
     "end_time": "2022-10-21T17:08:54.627117",
     "exception": false,
     "start_time": "2022-10-21T17:08:54.606618",
     "status": "completed"
    },
    "tags": []
   },
   "outputs": [
    {
     "data": {
      "text/plain": [
       "['game_num',\n",
       " 'event_id',\n",
       " 'event_time',\n",
       " 'player_scoring_next',\n",
       " 'team_scoring_next',\n",
       " 'team_A_scoring_within_10sec',\n",
       " 'team_B_scoring_within_10sec']"
      ]
     },
     "execution_count": 8,
     "metadata": {},
     "output_type": "execute_result"
    }
   ],
   "source": [
    "# columns only in trainig\n",
    "[c for c in train_dtypes_df['column'] if c not in test_dtypes_df['column'].values]"
   ]
  },
  {
   "cell_type": "markdown",
   "id": "00d11f2e",
   "metadata": {
    "papermill": {
     "duration": 0.006279,
     "end_time": "2022-10-21T17:08:54.639938",
     "exception": false,
     "start_time": "2022-10-21T17:08:54.633659",
     "status": "completed"
    },
    "tags": []
   },
   "source": [
    "### Feature selection"
   ]
  },
  {
   "cell_type": "code",
   "execution_count": 9,
   "id": "57cdb013",
   "metadata": {
    "execution": {
     "iopub.execute_input": "2022-10-21T17:08:54.655733Z",
     "iopub.status.busy": "2022-10-21T17:08:54.655355Z",
     "iopub.status.idle": "2022-10-21T17:08:54.661353Z",
     "shell.execute_reply": "2022-10-21T17:08:54.660327Z"
    },
    "papermill": {
     "duration": 0.015913,
     "end_time": "2022-10-21T17:08:54.663501",
     "exception": false,
     "start_time": "2022-10-21T17:08:54.647588",
     "status": "completed"
    },
    "tags": []
   },
   "outputs": [],
   "source": [
    "targets = ['team_A_scoring_within_10sec', 'team_B_scoring_within_10sec']\n",
    "useless_cols = ['game_num', 'event_id', 'event_time', 'player_scoring_next', 'team_scoring_next']\n",
    "use_cols = [c for c in train_dtypes_df['column'] if c not in useless_cols]\n",
    "features = [c for c in use_cols if c not in targets]"
   ]
  },
  {
   "cell_type": "code",
   "execution_count": 10,
   "id": "5a0be0ba",
   "metadata": {
    "execution": {
     "iopub.execute_input": "2022-10-21T17:08:54.678132Z",
     "iopub.status.busy": "2022-10-21T17:08:54.677759Z",
     "iopub.status.idle": "2022-10-21T17:08:54.684362Z",
     "shell.execute_reply": "2022-10-21T17:08:54.683327Z"
    },
    "papermill": {
     "duration": 0.016461,
     "end_time": "2022-10-21T17:08:54.686549",
     "exception": false,
     "start_time": "2022-10-21T17:08:54.670088",
     "status": "completed"
    },
    "tags": []
   },
   "outputs": [],
   "source": [
    "if False:\n",
    "    train_dfs = []\n",
    "    for i in range(10):\n",
    "        train_file = os.path.join(data_path, f'train_{i}.csv')\n",
    "        train_dfs.append(pd.read_csv(train_file, usecols=use_cols, dtype=cols_dtypes))\n",
    "\n",
    "    pd.concat(train_dfs).reset_index(drop=True).to_feather('train.feather')\n",
    "    del train_dfs\n",
    "    \n",
    "    test_file = os.path.join(data_path, 'test.csv')\n",
    "    df = pd.read_csv(test_file, usecols=features, dtype=cols_dtypes)\n",
    "    df.to_feather('test.feather')\n",
    "    del df"
   ]
  },
  {
   "cell_type": "code",
   "execution_count": 11,
   "id": "b3dd7f3f",
   "metadata": {
    "execution": {
     "iopub.execute_input": "2022-10-21T17:08:54.700915Z",
     "iopub.status.busy": "2022-10-21T17:08:54.700577Z",
     "iopub.status.idle": "2022-10-21T17:09:23.453612Z",
     "shell.execute_reply": "2022-10-21T17:09:23.452549Z"
    },
    "papermill": {
     "duration": 28.762998,
     "end_time": "2022-10-21T17:09:23.456080",
     "exception": false,
     "start_time": "2022-10-21T17:08:54.693082",
     "status": "completed"
    },
    "tags": []
   },
   "outputs": [],
   "source": [
    "#read data from multiple feather files\n",
    "train_dfs = []\n",
    "for i in range(10):\n",
    "    train_file = os.path.join(feather_path, f'train_{i}.feather')\n",
    "    train_dfs.append(pd.read_feather(train_file))\n",
    "train_df = pd.concat(train_dfs).reset_index(drop=True)\n",
    "\n",
    "# train_df.dropna(axis=0, inplace=True)\n",
    "# train_df = train_df.reset_index(drop=True)"
   ]
  },
  {
   "cell_type": "code",
   "execution_count": 12,
   "id": "e0b947f5",
   "metadata": {
    "execution": {
     "iopub.execute_input": "2022-10-21T17:09:23.471576Z",
     "iopub.status.busy": "2022-10-21T17:09:23.470843Z",
     "iopub.status.idle": "2022-10-21T17:09:23.478538Z",
     "shell.execute_reply": "2022-10-21T17:09:23.477494Z"
    },
    "papermill": {
     "duration": 0.0177,
     "end_time": "2022-10-21T17:09:23.480699",
     "exception": false,
     "start_time": "2022-10-21T17:09:23.462999",
     "status": "completed"
    },
    "tags": []
   },
   "outputs": [],
   "source": [
    "def get_normalized_df(df, min_data, max_data):\n",
    "    # distance\n",
    "    for i in range(6):\n",
    "        df[f'p{i}_ball'] = np.sqrt(\n",
    "           (df[f'p{i}_pos_x']-df['ball_pos_x'])**2+\n",
    "           (df[f'p{i}_pos_y']-df['ball_pos_y'])**2+\n",
    "           (df[f'p{i}_pos_z']-df['ball_pos_z'])**2)\n",
    "    \n",
    "    if min_data is None:\n",
    "        min_data = df.min()\n",
    "        max_data = df.max()\n",
    "    \n",
    "    df = (df - min_data)/(max_data - min_data)\n",
    "    df.fillna(0, inplace=True)\n",
    "    \n",
    "    return df, min_data, max_data"
   ]
  },
  {
   "cell_type": "code",
   "execution_count": 13,
   "id": "7481ae50",
   "metadata": {
    "execution": {
     "iopub.execute_input": "2022-10-21T17:09:23.495619Z",
     "iopub.status.busy": "2022-10-21T17:09:23.495020Z",
     "iopub.status.idle": "2022-10-21T17:09:25.999907Z",
     "shell.execute_reply": "2022-10-21T17:09:25.998840Z"
    },
    "papermill": {
     "duration": 2.515328,
     "end_time": "2022-10-21T17:09:26.002728",
     "exception": false,
     "start_time": "2022-10-21T17:09:23.487400",
     "status": "completed"
    },
    "tags": []
   },
   "outputs": [],
   "source": [
    "targets_df = pd.DataFrame()\n",
    "targets_df['team_A_scoring_within_10sec'] = train_df.pop('team_A_scoring_within_10sec')\n",
    "targets_df['team_B_scoring_within_10sec'] = train_df.pop('team_B_scoring_within_10sec')\n",
    "targets_df['no_team_scored'] = (\n",
    "    targets_df['team_A_scoring_within_10sec'] == targets_df['team_B_scoring_within_10sec']\n",
    ").astype('int8')"
   ]
  },
  {
   "cell_type": "code",
   "execution_count": 14,
   "id": "156657ee",
   "metadata": {
    "execution": {
     "iopub.execute_input": "2022-10-21T17:09:26.017672Z",
     "iopub.status.busy": "2022-10-21T17:09:26.017281Z",
     "iopub.status.idle": "2022-10-21T17:09:26.022032Z",
     "shell.execute_reply": "2022-10-21T17:09:26.020867Z"
    },
    "papermill": {
     "duration": 0.014604,
     "end_time": "2022-10-21T17:09:26.024221",
     "exception": false,
     "start_time": "2022-10-21T17:09:26.009617",
     "status": "completed"
    },
    "tags": []
   },
   "outputs": [],
   "source": [
    "min_data = None\n",
    "max_data = None"
   ]
  },
  {
   "cell_type": "code",
   "execution_count": 15,
   "id": "f28a3e15",
   "metadata": {
    "execution": {
     "iopub.execute_input": "2022-10-21T17:09:26.038547Z",
     "iopub.status.busy": "2022-10-21T17:09:26.038218Z",
     "iopub.status.idle": "2022-10-21T17:09:57.345601Z",
     "shell.execute_reply": "2022-10-21T17:09:57.344421Z"
    },
    "papermill": {
     "duration": 31.317314,
     "end_time": "2022-10-21T17:09:57.348089",
     "exception": false,
     "start_time": "2022-10-21T17:09:26.030775",
     "status": "completed"
    },
    "tags": []
   },
   "outputs": [
    {
     "name": "stderr",
     "output_type": "stream",
     "text": [
      "/var/folders/7v/fh_lpbqd10dbrq8tjx6__qh40000gn/T/ipykernel_14087/1894913819.py:10: FutureWarning: The default value of numeric_only in DataFrame.min is deprecated. In a future version, it will default to False. In addition, specifying 'numeric_only=None' is deprecated. Select only valid columns or specify the value of numeric_only to silence this warning.\n",
      "  min_data = df.min()\n",
      "/var/folders/7v/fh_lpbqd10dbrq8tjx6__qh40000gn/T/ipykernel_14087/1894913819.py:11: FutureWarning: The default value of numeric_only in DataFrame.max is deprecated. In a future version, it will default to False. In addition, specifying 'numeric_only=None' is deprecated. Select only valid columns or specify the value of numeric_only to silence this warning.\n",
      "  max_data = df.max()\n"
     ]
    }
   ],
   "source": [
    "train_df, min_data, max_data = get_normalized_df(train_df, min_data, max_data)"
   ]
  },
  {
   "cell_type": "code",
   "execution_count": 16,
   "id": "490c0d51",
   "metadata": {
    "execution": {
     "iopub.execute_input": "2022-10-21T17:09:57.363417Z",
     "iopub.status.busy": "2022-10-21T17:09:57.363025Z",
     "iopub.status.idle": "2022-10-21T17:10:18.753504Z",
     "shell.execute_reply": "2022-10-21T17:10:18.752328Z"
    },
    "papermill": {
     "duration": 21.400805,
     "end_time": "2022-10-21T17:10:18.755986",
     "exception": false,
     "start_time": "2022-10-21T17:09:57.355181",
     "status": "completed"
    },
    "tags": []
   },
   "outputs": [
    {
     "data": {
      "text/plain": [
       "23"
      ]
     },
     "execution_count": 16,
     "metadata": {},
     "output_type": "execute_result"
    }
   ],
   "source": [
    "train_X, val_X, train_y, val_y = train_test_split(train_df, targets_df, test_size=0.007, random_state=0)\n",
    "del (train_df, targets_df)\n",
    "gc.collect()"
   ]
  },
  {
   "cell_type": "code",
   "execution_count": 17,
   "id": "566b48ee",
   "metadata": {},
   "outputs": [
    {
     "data": {
      "text/html": [
       "<div>\n",
       "<style scoped>\n",
       "    .dataframe tbody tr th:only-of-type {\n",
       "        vertical-align: middle;\n",
       "    }\n",
       "\n",
       "    .dataframe tbody tr th {\n",
       "        vertical-align: top;\n",
       "    }\n",
       "\n",
       "    .dataframe thead th {\n",
       "        text-align: right;\n",
       "    }\n",
       "</style>\n",
       "<table border=\"1\" class=\"dataframe\">\n",
       "  <thead>\n",
       "    <tr style=\"text-align: right;\">\n",
       "      <th></th>\n",
       "      <th>team_A_scoring_within_10sec</th>\n",
       "      <th>team_B_scoring_within_10sec</th>\n",
       "      <th>no_team_scored</th>\n",
       "    </tr>\n",
       "  </thead>\n",
       "  <tbody>\n",
       "    <tr>\n",
       "      <th>2523289</th>\n",
       "      <td>0</td>\n",
       "      <td>0</td>\n",
       "      <td>1</td>\n",
       "    </tr>\n",
       "    <tr>\n",
       "      <th>12016775</th>\n",
       "      <td>0</td>\n",
       "      <td>0</td>\n",
       "      <td>1</td>\n",
       "    </tr>\n",
       "    <tr>\n",
       "      <th>591893</th>\n",
       "      <td>0</td>\n",
       "      <td>0</td>\n",
       "      <td>1</td>\n",
       "    </tr>\n",
       "    <tr>\n",
       "      <th>13582302</th>\n",
       "      <td>0</td>\n",
       "      <td>0</td>\n",
       "      <td>1</td>\n",
       "    </tr>\n",
       "    <tr>\n",
       "      <th>12061929</th>\n",
       "      <td>0</td>\n",
       "      <td>0</td>\n",
       "      <td>1</td>\n",
       "    </tr>\n",
       "    <tr>\n",
       "      <th>...</th>\n",
       "      <td>...</td>\n",
       "      <td>...</td>\n",
       "      <td>...</td>\n",
       "    </tr>\n",
       "    <tr>\n",
       "      <th>11069204</th>\n",
       "      <td>0</td>\n",
       "      <td>0</td>\n",
       "      <td>1</td>\n",
       "    </tr>\n",
       "    <tr>\n",
       "      <th>5710638</th>\n",
       "      <td>0</td>\n",
       "      <td>0</td>\n",
       "      <td>1</td>\n",
       "    </tr>\n",
       "    <tr>\n",
       "      <th>946163</th>\n",
       "      <td>0</td>\n",
       "      <td>0</td>\n",
       "      <td>1</td>\n",
       "    </tr>\n",
       "    <tr>\n",
       "      <th>10696164</th>\n",
       "      <td>0</td>\n",
       "      <td>0</td>\n",
       "      <td>1</td>\n",
       "    </tr>\n",
       "    <tr>\n",
       "      <th>14279206</th>\n",
       "      <td>1</td>\n",
       "      <td>0</td>\n",
       "      <td>0</td>\n",
       "    </tr>\n",
       "  </tbody>\n",
       "</table>\n",
       "<p>148387 rows × 3 columns</p>\n",
       "</div>"
      ],
      "text/plain": [
       "          team_A_scoring_within_10sec  team_B_scoring_within_10sec  \\\n",
       "2523289                             0                            0   \n",
       "12016775                            0                            0   \n",
       "591893                              0                            0   \n",
       "13582302                            0                            0   \n",
       "12061929                            0                            0   \n",
       "...                               ...                          ...   \n",
       "11069204                            0                            0   \n",
       "5710638                             0                            0   \n",
       "946163                              0                            0   \n",
       "10696164                            0                            0   \n",
       "14279206                            1                            0   \n",
       "\n",
       "          no_team_scored  \n",
       "2523289                1  \n",
       "12016775               1  \n",
       "591893                 1  \n",
       "13582302               1  \n",
       "12061929               1  \n",
       "...                  ...  \n",
       "11069204               1  \n",
       "5710638                1  \n",
       "946163                 1  \n",
       "10696164               1  \n",
       "14279206               0  \n",
       "\n",
       "[148387 rows x 3 columns]"
      ]
     },
     "execution_count": 17,
     "metadata": {},
     "output_type": "execute_result"
    }
   ],
   "source": [
    "val_y"
   ]
  },
  {
   "cell_type": "code",
   "execution_count": 18,
   "id": "80b7693d",
   "metadata": {
    "execution": {
     "iopub.execute_input": "2022-10-21T17:10:18.772194Z",
     "iopub.status.busy": "2022-10-21T17:10:18.771325Z",
     "iopub.status.idle": "2022-10-21T17:10:18.993271Z",
     "shell.execute_reply": "2022-10-21T17:10:18.990616Z"
    },
    "papermill": {
     "duration": 0.233222,
     "end_time": "2022-10-21T17:10:18.996287",
     "exception": false,
     "start_time": "2022-10-21T17:10:18.763065",
     "status": "completed"
    },
    "tags": []
   },
   "outputs": [],
   "source": [
    "model = keras.models.Sequential([\n",
    "    layers.BatchNormalization(input_shape = [len(train_X.columns)]),\n",
    "    layers.Dense(128, activation='relu'),\n",
    "    \n",
    "    layers.BatchNormalization(),\n",
    "    layers.Dropout(0.2),\n",
    "    layers.Dense(256, activation='relu'),\n",
    "    \n",
    "    layers.BatchNormalization(),\n",
    "    layers.Dropout(0.2),\n",
    "    layers.Dense(256, activation='relu'),\n",
    " \n",
    "    layers.BatchNormalization(),\n",
    "    layers.Dropout(0.2),\n",
    "    layers.Dense(128, activation='relu'),    \n",
    "    \n",
    "    layers.BatchNormalization(),\n",
    "    layers.Dropout(0.2),\n",
    "    layers.Dense(3)\n",
    "])"
   ]
  },
  {
   "cell_type": "code",
   "execution_count": 19,
   "id": "74fb9873",
   "metadata": {
    "execution": {
     "iopub.execute_input": "2022-10-21T17:10:19.014594Z",
     "iopub.status.busy": "2022-10-21T17:10:19.014195Z",
     "iopub.status.idle": "2022-10-21T17:10:19.035812Z",
     "shell.execute_reply": "2022-10-21T17:10:19.034162Z"
    },
    "papermill": {
     "duration": 0.035046,
     "end_time": "2022-10-21T17:10:19.039028",
     "exception": false,
     "start_time": "2022-10-21T17:10:19.003982",
     "status": "completed"
    },
    "tags": []
   },
   "outputs": [],
   "source": [
    "model.compile(optimizer='adam',\n",
    "             loss=tf.keras.losses.CategoricalCrossentropy(from_logits=True),\n",
    "             metrics=['accuracy'])"
   ]
  },
  {
   "cell_type": "code",
   "execution_count": 20,
   "id": "7819f37c",
   "metadata": {
    "execution": {
     "iopub.execute_input": "2022-10-21T17:10:19.057317Z",
     "iopub.status.busy": "2022-10-21T17:10:19.056280Z",
     "iopub.status.idle": "2022-10-21T17:10:19.061889Z",
     "shell.execute_reply": "2022-10-21T17:10:19.060807Z"
    },
    "papermill": {
     "duration": 0.017058,
     "end_time": "2022-10-21T17:10:19.064418",
     "exception": false,
     "start_time": "2022-10-21T17:10:19.047360",
     "status": "completed"
    },
    "tags": []
   },
   "outputs": [],
   "source": [
    "callbacks = [\n",
    "    keras.callbacks.EarlyStopping(monitor=\"val_loss\", patience=5),\n",
    "]"
   ]
  },
  {
   "cell_type": "code",
   "execution_count": 21,
   "id": "a23399c1",
   "metadata": {
    "execution": {
     "iopub.execute_input": "2022-10-21T17:10:19.082482Z",
     "iopub.status.busy": "2022-10-21T17:10:19.082062Z",
     "iopub.status.idle": "2022-10-21T17:25:51.959705Z",
     "shell.execute_reply": "2022-10-21T17:25:51.958929Z"
    },
    "papermill": {
     "duration": 933.754319,
     "end_time": "2022-10-21T17:25:52.827505",
     "exception": false,
     "start_time": "2022-10-21T17:10:19.073186",
     "status": "completed"
    },
    "tags": []
   },
   "outputs": [
    {
     "name": "stdout",
     "output_type": "stream",
     "text": [
      "Epoch 1/50\n"
     ]
    },
    {
     "name": "stderr",
     "output_type": "stream",
     "text": [
      "2022-10-21 18:49:05.238345: W tensorflow/core/platform/profile_utils/cpu_utils.cc:128] Failed to get CPU frequency: 0 Hz\n"
     ]
    },
    {
     "name": "stdout",
     "output_type": "stream",
     "text": [
      "5000/5000 [==============================] - 12s 2ms/step - loss: 0.2133 - accuracy: 0.9155 - val_loss: 0.0577 - val_accuracy: 0.9777\n",
      "Epoch 2/50\n",
      "5000/5000 [==============================] - 10s 2ms/step - loss: 0.0994 - accuracy: 0.9592 - val_loss: 0.0766 - val_accuracy: 0.9635\n",
      "Epoch 3/50\n",
      "5000/5000 [==============================] - 10s 2ms/step - loss: 0.0852 - accuracy: 0.9658 - val_loss: 0.0457 - val_accuracy: 0.9828\n",
      "Epoch 4/50\n",
      "5000/5000 [==============================] - 11s 2ms/step - loss: 0.0737 - accuracy: 0.9705 - val_loss: 0.0523 - val_accuracy: 0.9804\n",
      "Epoch 5/50\n",
      "5000/5000 [==============================] - 12s 2ms/step - loss: 0.0675 - accuracy: 0.9729 - val_loss: 0.0574 - val_accuracy: 0.9710\n",
      "Epoch 6/50\n",
      "5000/5000 [==============================] - 12s 2ms/step - loss: 0.0642 - accuracy: 0.9746 - val_loss: 0.0560 - val_accuracy: 0.9783\n",
      "Epoch 7/50\n",
      "5000/5000 [==============================] - 12s 2ms/step - loss: 0.0599 - accuracy: 0.9757 - val_loss: 0.0466 - val_accuracy: 0.9842\n",
      "Epoch 8/50\n",
      "5000/5000 [==============================] - 12s 2ms/step - loss: 0.0596 - accuracy: 0.9760 - val_loss: 0.0431 - val_accuracy: 0.9820\n",
      "Epoch 9/50\n",
      "5000/5000 [==============================] - 12s 2ms/step - loss: 0.0566 - accuracy: 0.9772 - val_loss: 0.0432 - val_accuracy: 0.9810\n",
      "Epoch 10/50\n",
      "5000/5000 [==============================] - 12s 2ms/step - loss: 0.0570 - accuracy: 0.9771 - val_loss: 0.0610 - val_accuracy: 0.9678\n",
      "Epoch 11/50\n",
      "5000/5000 [==============================] - 12s 2ms/step - loss: 0.0565 - accuracy: 0.9773 - val_loss: 0.0606 - val_accuracy: 0.9707\n",
      "Epoch 12/50\n",
      "5000/5000 [==============================] - 12s 2ms/step - loss: 0.0557 - accuracy: 0.9771 - val_loss: 0.0471 - val_accuracy: 0.9777\n",
      "Epoch 13/50\n",
      "5000/5000 [==============================] - 12s 2ms/step - loss: 0.0557 - accuracy: 0.9771 - val_loss: 0.0537 - val_accuracy: 0.9742\n"
     ]
    },
    {
     "data": {
      "text/plain": [
       "3576"
      ]
     },
     "execution_count": 21,
     "metadata": {},
     "output_type": "execute_result"
    }
   ],
   "source": [
    "_ = model.fit(train_X, train_y, \n",
    "              epochs=50, \n",
    "              steps_per_epoch=5000, \n",
    "              batch_size=32,\n",
    "              validation_data=(val_X, val_y),\n",
    "              callbacks=[callbacks])\n",
    "\n",
    "del (train_X, val_X, train_y, val_y)\n",
    "gc.collect()"
   ]
  },
  {
   "cell_type": "code",
   "execution_count": 22,
   "id": "77961740",
   "metadata": {
    "execution": {
     "iopub.execute_input": "2022-10-21T17:25:54.521330Z",
     "iopub.status.busy": "2022-10-21T17:25:54.520970Z",
     "iopub.status.idle": "2022-10-21T17:25:55.754344Z",
     "shell.execute_reply": "2022-10-21T17:25:55.753213Z"
    },
    "papermill": {
     "duration": 2.113331,
     "end_time": "2022-10-21T17:25:55.757070",
     "exception": false,
     "start_time": "2022-10-21T17:25:53.643739",
     "status": "completed"
    },
    "tags": []
   },
   "outputs": [],
   "source": [
    "test_df = pd.read_feather(test_feather_file)"
   ]
  },
  {
   "cell_type": "code",
   "execution_count": 23,
   "id": "65301239",
   "metadata": {
    "execution": {
     "iopub.execute_input": "2022-10-21T17:25:57.385532Z",
     "iopub.status.busy": "2022-10-21T17:25:57.385153Z",
     "iopub.status.idle": "2022-10-21T17:25:57.485711Z",
     "shell.execute_reply": "2022-10-21T17:25:57.484529Z"
    },
    "papermill": {
     "duration": 0.95349,
     "end_time": "2022-10-21T17:25:57.488057",
     "exception": false,
     "start_time": "2022-10-21T17:25:56.534567",
     "status": "completed"
    },
    "tags": []
   },
   "outputs": [
    {
     "data": {
      "text/plain": [
       "261422"
      ]
     },
     "execution_count": 23,
     "metadata": {},
     "output_type": "execute_result"
    }
   ],
   "source": [
    "test_df.isnull().sum().sum()"
   ]
  },
  {
   "cell_type": "code",
   "execution_count": 24,
   "id": "3c04f901",
   "metadata": {
    "execution": {
     "iopub.execute_input": "2022-10-21T17:25:59.037066Z",
     "iopub.status.busy": "2022-10-21T17:25:59.036691Z",
     "iopub.status.idle": "2022-10-21T17:25:59.597963Z",
     "shell.execute_reply": "2022-10-21T17:25:59.596959Z"
    },
    "papermill": {
     "duration": 1.340916,
     "end_time": "2022-10-21T17:25:59.600587",
     "exception": false,
     "start_time": "2022-10-21T17:25:58.259671",
     "status": "completed"
    },
    "tags": []
   },
   "outputs": [],
   "source": [
    "test_df, _, _ = get_normalized_df(test_df, min_data, max_data)"
   ]
  },
  {
   "cell_type": "code",
   "execution_count": 25,
   "id": "9493e6f2",
   "metadata": {
    "execution": {
     "iopub.execute_input": "2022-10-21T17:26:01.222820Z",
     "iopub.status.busy": "2022-10-21T17:26:01.222437Z",
     "iopub.status.idle": "2022-10-21T17:26:01.298855Z",
     "shell.execute_reply": "2022-10-21T17:26:01.298063Z"
    },
    "papermill": {
     "duration": 0.853161,
     "end_time": "2022-10-21T17:26:01.300875",
     "exception": false,
     "start_time": "2022-10-21T17:26:00.447714",
     "status": "completed"
    },
    "tags": []
   },
   "outputs": [
    {
     "data": {
      "text/plain": [
       "0"
      ]
     },
     "execution_count": 25,
     "metadata": {},
     "output_type": "execute_result"
    }
   ],
   "source": [
    "test_df.isnull().sum().sum()"
   ]
  },
  {
   "cell_type": "code",
   "execution_count": 26,
   "id": "2ae1646c",
   "metadata": {
    "execution": {
     "iopub.execute_input": "2022-10-21T17:26:02.973674Z",
     "iopub.status.busy": "2022-10-21T17:26:02.972915Z",
     "iopub.status.idle": "2022-10-21T17:26:44.389390Z",
     "shell.execute_reply": "2022-10-21T17:26:44.388132Z"
    },
    "papermill": {
     "duration": 42.257474,
     "end_time": "2022-10-21T17:26:44.392269",
     "exception": false,
     "start_time": "2022-10-21T17:26:02.134795",
     "status": "completed"
    },
    "tags": []
   },
   "outputs": [
    {
     "name": "stdout",
     "output_type": "stream",
     "text": [
      "21911/21911 [==============================] - 16s 712us/step\n"
     ]
    }
   ],
   "source": [
    "preds = model.predict(test_df)\n",
    "score = tf.nn.softmax(preds)"
   ]
  },
  {
   "cell_type": "code",
   "execution_count": 36,
   "id": "be881aaa",
   "metadata": {
    "execution": {
     "iopub.execute_input": "2022-10-21T17:26:45.967898Z",
     "iopub.status.busy": "2022-10-21T17:26:45.967182Z",
     "iopub.status.idle": "2022-10-21T17:26:48.222035Z",
     "shell.execute_reply": "2022-10-21T17:26:48.221001Z"
    },
    "papermill": {
     "duration": 3.026832,
     "end_time": "2022-10-21T17:26:48.224506",
     "exception": false,
     "start_time": "2022-10-21T17:26:45.197674",
     "status": "completed"
    },
    "tags": []
   },
   "outputs": [
    {
     "data": {
      "text/html": [
       "<div>\n",
       "<style scoped>\n",
       "    .dataframe tbody tr th:only-of-type {\n",
       "        vertical-align: middle;\n",
       "    }\n",
       "\n",
       "    .dataframe tbody tr th {\n",
       "        vertical-align: top;\n",
       "    }\n",
       "\n",
       "    .dataframe thead th {\n",
       "        text-align: right;\n",
       "    }\n",
       "</style>\n",
       "<table border=\"1\" class=\"dataframe\">\n",
       "  <thead>\n",
       "    <tr style=\"text-align: right;\">\n",
       "      <th></th>\n",
       "      <th>id</th>\n",
       "      <th>team_A_scoring_within_10sec</th>\n",
       "      <th>team_B_scoring_within_10sec</th>\n",
       "    </tr>\n",
       "  </thead>\n",
       "  <tbody>\n",
       "    <tr>\n",
       "      <th>0</th>\n",
       "      <td>0</td>\n",
       "      <td>2.876272e-05</td>\n",
       "      <td>0.999971</td>\n",
       "    </tr>\n",
       "    <tr>\n",
       "      <th>1</th>\n",
       "      <td>1</td>\n",
       "      <td>2.327401e-07</td>\n",
       "      <td>1.000000</td>\n",
       "    </tr>\n",
       "    <tr>\n",
       "      <th>2</th>\n",
       "      <td>2</td>\n",
       "      <td>1.819524e-07</td>\n",
       "      <td>1.000000</td>\n",
       "    </tr>\n",
       "    <tr>\n",
       "      <th>3</th>\n",
       "      <td>3</td>\n",
       "      <td>7.534706e-04</td>\n",
       "      <td>0.999246</td>\n",
       "    </tr>\n",
       "    <tr>\n",
       "      <th>4</th>\n",
       "      <td>4</td>\n",
       "      <td>1.969745e-08</td>\n",
       "      <td>1.000000</td>\n",
       "    </tr>\n",
       "  </tbody>\n",
       "</table>\n",
       "</div>"
      ],
      "text/plain": [
       "   id  team_A_scoring_within_10sec  team_B_scoring_within_10sec\n",
       "0   0                 2.876272e-05                     0.999971\n",
       "1   1                 2.327401e-07                     1.000000\n",
       "2   2                 1.819524e-07                     1.000000\n",
       "3   3                 7.534706e-04                     0.999246\n",
       "4   4                 1.969745e-08                     1.000000"
      ]
     },
     "execution_count": 36,
     "metadata": {},
     "output_type": "execute_result"
    }
   ],
   "source": [
    "ss = pd.read_csv(sample_submission_file)\n",
    "ss['team_A_scoring_within_10sec'] = score[:,0]\n",
    "ss['team_B_scoring_within_10sec'] = score[:,1]\n",
    "ss.to_csv('Submission.csv', index=False)\n",
    "ss.head()"
   ]
  },
  {
   "cell_type": "code",
   "execution_count": 35,
   "id": "63507a15",
   "metadata": {},
   "outputs": [
    {
     "data": {
      "text/html": [
       "<div>\n",
       "<style scoped>\n",
       "    .dataframe tbody tr th:only-of-type {\n",
       "        vertical-align: middle;\n",
       "    }\n",
       "\n",
       "    .dataframe tbody tr th {\n",
       "        vertical-align: top;\n",
       "    }\n",
       "\n",
       "    .dataframe thead th {\n",
       "        text-align: right;\n",
       "    }\n",
       "</style>\n",
       "<table border=\"1\" class=\"dataframe\">\n",
       "  <thead>\n",
       "    <tr style=\"text-align: right;\">\n",
       "      <th></th>\n",
       "      <th>id</th>\n",
       "      <th>team_A_scoring_within_10sec</th>\n",
       "      <th>team_B_scoring_within_10sec</th>\n",
       "    </tr>\n",
       "  </thead>\n",
       "  <tbody>\n",
       "    <tr>\n",
       "      <th>0</th>\n",
       "      <td>0</td>\n",
       "      <td>111</td>\n",
       "      <td>4</td>\n",
       "    </tr>\n",
       "    <tr>\n",
       "      <th>1</th>\n",
       "      <td>1</td>\n",
       "      <td>111</td>\n",
       "      <td>4</td>\n",
       "    </tr>\n",
       "    <tr>\n",
       "      <th>2</th>\n",
       "      <td>2</td>\n",
       "      <td>111</td>\n",
       "      <td>4</td>\n",
       "    </tr>\n",
       "    <tr>\n",
       "      <th>3</th>\n",
       "      <td>3</td>\n",
       "      <td>111</td>\n",
       "      <td>4</td>\n",
       "    </tr>\n",
       "    <tr>\n",
       "      <th>4</th>\n",
       "      <td>4</td>\n",
       "      <td>111</td>\n",
       "      <td>4</td>\n",
       "    </tr>\n",
       "    <tr>\n",
       "      <th>...</th>\n",
       "      <td>...</td>\n",
       "      <td>...</td>\n",
       "      <td>...</td>\n",
       "    </tr>\n",
       "    <tr>\n",
       "      <th>701138</th>\n",
       "      <td>701138</td>\n",
       "      <td>111</td>\n",
       "      <td>4</td>\n",
       "    </tr>\n",
       "    <tr>\n",
       "      <th>701139</th>\n",
       "      <td>701139</td>\n",
       "      <td>111</td>\n",
       "      <td>4</td>\n",
       "    </tr>\n",
       "    <tr>\n",
       "      <th>701140</th>\n",
       "      <td>701140</td>\n",
       "      <td>111</td>\n",
       "      <td>4</td>\n",
       "    </tr>\n",
       "    <tr>\n",
       "      <th>701141</th>\n",
       "      <td>701141</td>\n",
       "      <td>111</td>\n",
       "      <td>4</td>\n",
       "    </tr>\n",
       "    <tr>\n",
       "      <th>701142</th>\n",
       "      <td>701142</td>\n",
       "      <td>111</td>\n",
       "      <td>4</td>\n",
       "    </tr>\n",
       "  </tbody>\n",
       "</table>\n",
       "<p>701143 rows × 3 columns</p>\n",
       "</div>"
      ],
      "text/plain": [
       "            id  team_A_scoring_within_10sec  team_B_scoring_within_10sec\n",
       "0            0                          111                            4\n",
       "1            1                          111                            4\n",
       "2            2                          111                            4\n",
       "3            3                          111                            4\n",
       "4            4                          111                            4\n",
       "...        ...                          ...                          ...\n",
       "701138  701138                          111                            4\n",
       "701139  701139                          111                            4\n",
       "701140  701140                          111                            4\n",
       "701141  701141                          111                            4\n",
       "701142  701142                          111                            4\n",
       "\n",
       "[701143 rows x 3 columns]"
      ]
     },
     "execution_count": 35,
     "metadata": {},
     "output_type": "execute_result"
    }
   ],
   "source": [
    "ss"
   ]
  },
  {
   "cell_type": "code",
   "execution_count": 32,
   "id": "7d65f12a",
   "metadata": {},
   "outputs": [
    {
     "data": {
      "text/plain": [
       "<tf.Tensor: shape=(701143,), dtype=float32, numpy=\n",
       "array([0.9999713 , 0.99999976, 0.99999976, ..., 0.99804974, 1.        ,\n",
       "       0.9999999 ], dtype=float32)>"
      ]
     },
     "execution_count": 32,
     "metadata": {},
     "output_type": "execute_result"
    }
   ],
   "source": [
    "score[:,1]"
   ]
  }
 ],
 "metadata": {
  "kernelspec": {
   "display_name": "Python 3.10.7 ('venv': venv)",
   "language": "python",
   "name": "python3"
  },
  "language_info": {
   "codemirror_mode": {
    "name": "ipython",
    "version": 3
   },
   "file_extension": ".py",
   "mimetype": "text/x-python",
   "name": "python",
   "nbconvert_exporter": "python",
   "pygments_lexer": "ipython3",
   "version": "3.10.7"
  },
  "papermill": {
   "default_parameters": {},
   "duration": 1092.98258,
   "end_time": "2022-10-21T17:26:52.416901",
   "environment_variables": {},
   "exception": null,
   "input_path": "__notebook__.ipynb",
   "output_path": "__notebook__.ipynb",
   "parameters": {},
   "start_time": "2022-10-21T17:08:39.434321",
   "version": "2.3.4"
  },
  "vscode": {
   "interpreter": {
    "hash": "245a0071a66f7b5cc64264642ac407a9d03f582ed0e56b620c43de65b4d312a4"
   }
  }
 },
 "nbformat": 4,
 "nbformat_minor": 5
}
